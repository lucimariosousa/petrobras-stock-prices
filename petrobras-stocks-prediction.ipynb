{
 "cells": [
  {
   "cell_type": "markdown",
   "metadata": {},
   "source": [
    "# Predicting the stock prices of Petrobras"
   ]
  },
  {
   "cell_type": "markdown",
   "metadata": {},
   "source": [
    "In this notebook we will use the DeepAR algorithm from AWS SageMaker to predict the values of the stock prices of Petrobras, the historical data was taken from: https://br.investing.com/equities/petrobras-pn-historical-data"
   ]
  },
  {
   "cell_type": "markdown",
   "metadata": {},
   "source": [
    "# Feature Engineering"
   ]
  },
  {
   "cell_type": "code",
   "execution_count": 3,
   "metadata": {},
   "outputs": [],
   "source": [
    "#Import the libraries that will be used\n",
    "\n",
    "import pandas as pd\n",
    "import matplotlib.pyplot as plt\n",
    "%matplotlib inline\n",
    "import json\n",
    "import os\n",
    "import numpy as np\n",
    "import datetime"
   ]
  },
  {
   "cell_type": "code",
   "execution_count": 8,
   "metadata": {},
   "outputs": [
    {
     "data": {
      "text/html": [
       "<div>\n",
       "<style scoped>\n",
       "    .dataframe tbody tr th:only-of-type {\n",
       "        vertical-align: middle;\n",
       "    }\n",
       "\n",
       "    .dataframe tbody tr th {\n",
       "        vertical-align: top;\n",
       "    }\n",
       "\n",
       "    .dataframe thead th {\n",
       "        text-align: right;\n",
       "    }\n",
       "</style>\n",
       "<table border=\"1\" class=\"dataframe\">\n",
       "  <thead>\n",
       "    <tr style=\"text-align: right;\">\n",
       "      <th></th>\n",
       "      <th>Data</th>\n",
       "      <th>Último</th>\n",
       "      <th>Abertura</th>\n",
       "      <th>Máxima</th>\n",
       "      <th>Mínima</th>\n",
       "      <th>Vol.</th>\n",
       "      <th>Var%</th>\n",
       "    </tr>\n",
       "  </thead>\n",
       "  <tbody>\n",
       "    <tr>\n",
       "      <th>0</th>\n",
       "      <td>20.06.2022</td>\n",
       "      <td>27,73</td>\n",
       "      <td>26,02</td>\n",
       "      <td>28,22</td>\n",
       "      <td>25,93</td>\n",
       "      <td>86,07M</td>\n",
       "      <td>1,54%</td>\n",
       "    </tr>\n",
       "    <tr>\n",
       "      <th>1</th>\n",
       "      <td>17.06.2022</td>\n",
       "      <td>27,31</td>\n",
       "      <td>28,17</td>\n",
       "      <td>28,45</td>\n",
       "      <td>26,13</td>\n",
       "      <td>183,27M</td>\n",
       "      <td>-6,09%</td>\n",
       "    </tr>\n",
       "    <tr>\n",
       "      <th>2</th>\n",
       "      <td>15.06.2022</td>\n",
       "      <td>29,08</td>\n",
       "      <td>30,00</td>\n",
       "      <td>30,02</td>\n",
       "      <td>28,84</td>\n",
       "      <td>72,19M</td>\n",
       "      <td>-1,76%</td>\n",
       "    </tr>\n",
       "    <tr>\n",
       "      <th>3</th>\n",
       "      <td>14.06.2022</td>\n",
       "      <td>29,60</td>\n",
       "      <td>29,66</td>\n",
       "      <td>30,25</td>\n",
       "      <td>29,24</td>\n",
       "      <td>68,57M</td>\n",
       "      <td>1,13%</td>\n",
       "    </tr>\n",
       "    <tr>\n",
       "      <th>4</th>\n",
       "      <td>13.06.2022</td>\n",
       "      <td>29,27</td>\n",
       "      <td>29,02</td>\n",
       "      <td>29,58</td>\n",
       "      <td>28,67</td>\n",
       "      <td>64,36M</td>\n",
       "      <td>-1,28%</td>\n",
       "    </tr>\n",
       "    <tr>\n",
       "      <th>...</th>\n",
       "      <td>...</td>\n",
       "      <td>...</td>\n",
       "      <td>...</td>\n",
       "      <td>...</td>\n",
       "      <td>...</td>\n",
       "      <td>...</td>\n",
       "      <td>...</td>\n",
       "    </tr>\n",
       "    <tr>\n",
       "      <th>1252</th>\n",
       "      <td>26.05.2017</td>\n",
       "      <td>13,12</td>\n",
       "      <td>12,92</td>\n",
       "      <td>13,23</td>\n",
       "      <td>12,86</td>\n",
       "      <td>63,10M</td>\n",
       "      <td>-0,46%</td>\n",
       "    </tr>\n",
       "    <tr>\n",
       "      <th>1253</th>\n",
       "      <td>25.05.2017</td>\n",
       "      <td>13,18</td>\n",
       "      <td>13,40</td>\n",
       "      <td>13,61</td>\n",
       "      <td>13,08</td>\n",
       "      <td>44,84M</td>\n",
       "      <td>-1,42%</td>\n",
       "    </tr>\n",
       "    <tr>\n",
       "      <th>1254</th>\n",
       "      <td>24.05.2017</td>\n",
       "      <td>13,37</td>\n",
       "      <td>13,19</td>\n",
       "      <td>13,52</td>\n",
       "      <td>13,13</td>\n",
       "      <td>53,98M</td>\n",
       "      <td>3,32%</td>\n",
       "    </tr>\n",
       "    <tr>\n",
       "      <th>1255</th>\n",
       "      <td>23.05.2017</td>\n",
       "      <td>12,94</td>\n",
       "      <td>12,90</td>\n",
       "      <td>13,05</td>\n",
       "      <td>12,84</td>\n",
       "      <td>48,35M</td>\n",
       "      <td>0,62%</td>\n",
       "    </tr>\n",
       "    <tr>\n",
       "      <th>1256</th>\n",
       "      <td>22.05.2017</td>\n",
       "      <td>12,86</td>\n",
       "      <td>12,81</td>\n",
       "      <td>12,96</td>\n",
       "      <td>12,47</td>\n",
       "      <td>54,77M</td>\n",
       "      <td>-1,61%</td>\n",
       "    </tr>\n",
       "  </tbody>\n",
       "</table>\n",
       "<p>1257 rows × 7 columns</p>\n",
       "</div>"
      ],
      "text/plain": [
       "            Data Último Abertura Máxima Mínima     Vol.    Var%\n",
       "0     20.06.2022  27,73    26,02  28,22  25,93   86,07M   1,54%\n",
       "1     17.06.2022  27,31    28,17  28,45  26,13  183,27M  -6,09%\n",
       "2     15.06.2022  29,08    30,00  30,02  28,84   72,19M  -1,76%\n",
       "3     14.06.2022  29,60    29,66  30,25  29,24   68,57M   1,13%\n",
       "4     13.06.2022  29,27    29,02  29,58  28,67   64,36M  -1,28%\n",
       "...          ...    ...      ...    ...    ...      ...     ...\n",
       "1252  26.05.2017  13,12    12,92  13,23  12,86   63,10M  -0,46%\n",
       "1253  25.05.2017  13,18    13,40  13,61  13,08   44,84M  -1,42%\n",
       "1254  24.05.2017  13,37    13,19  13,52  13,13   53,98M   3,32%\n",
       "1255  23.05.2017  12,94    12,90  13,05  12,84   48,35M   0,62%\n",
       "1256  22.05.2017  12,86    12,81  12,96  12,47   54,77M  -1,61%\n",
       "\n",
       "[1257 rows x 7 columns]"
      ]
     },
     "execution_count": 8,
     "metadata": {},
     "output_type": "execute_result"
    }
   ],
   "source": [
    "# Import the dataset\n",
    "\n",
    "df = pd.read_csv('PETR4-Dados-Históricos.csv')\n",
    "df"
   ]
  },
  {
   "cell_type": "code",
   "execution_count": 10,
   "metadata": {},
   "outputs": [
    {
     "data": {
      "text/html": [
       "<div>\n",
       "<style scoped>\n",
       "    .dataframe tbody tr th:only-of-type {\n",
       "        vertical-align: middle;\n",
       "    }\n",
       "\n",
       "    .dataframe tbody tr th {\n",
       "        vertical-align: top;\n",
       "    }\n",
       "\n",
       "    .dataframe thead th {\n",
       "        text-align: right;\n",
       "    }\n",
       "</style>\n",
       "<table border=\"1\" class=\"dataframe\">\n",
       "  <thead>\n",
       "    <tr style=\"text-align: right;\">\n",
       "      <th></th>\n",
       "      <th>Último</th>\n",
       "      <th>Abertura</th>\n",
       "      <th>Máxima</th>\n",
       "      <th>Mínima</th>\n",
       "      <th>Vol.</th>\n",
       "      <th>Var%</th>\n",
       "    </tr>\n",
       "    <tr>\n",
       "      <th>Data</th>\n",
       "      <th></th>\n",
       "      <th></th>\n",
       "      <th></th>\n",
       "      <th></th>\n",
       "      <th></th>\n",
       "      <th></th>\n",
       "    </tr>\n",
       "  </thead>\n",
       "  <tbody>\n",
       "    <tr>\n",
       "      <th>2022-06-20</th>\n",
       "      <td>27,73</td>\n",
       "      <td>26,02</td>\n",
       "      <td>28,22</td>\n",
       "      <td>25,93</td>\n",
       "      <td>86,07M</td>\n",
       "      <td>1,54%</td>\n",
       "    </tr>\n",
       "    <tr>\n",
       "      <th>2022-06-17</th>\n",
       "      <td>27,31</td>\n",
       "      <td>28,17</td>\n",
       "      <td>28,45</td>\n",
       "      <td>26,13</td>\n",
       "      <td>183,27M</td>\n",
       "      <td>-6,09%</td>\n",
       "    </tr>\n",
       "    <tr>\n",
       "      <th>2022-06-15</th>\n",
       "      <td>29,08</td>\n",
       "      <td>30,00</td>\n",
       "      <td>30,02</td>\n",
       "      <td>28,84</td>\n",
       "      <td>72,19M</td>\n",
       "      <td>-1,76%</td>\n",
       "    </tr>\n",
       "    <tr>\n",
       "      <th>2022-06-14</th>\n",
       "      <td>29,60</td>\n",
       "      <td>29,66</td>\n",
       "      <td>30,25</td>\n",
       "      <td>29,24</td>\n",
       "      <td>68,57M</td>\n",
       "      <td>1,13%</td>\n",
       "    </tr>\n",
       "    <tr>\n",
       "      <th>2022-06-13</th>\n",
       "      <td>29,27</td>\n",
       "      <td>29,02</td>\n",
       "      <td>29,58</td>\n",
       "      <td>28,67</td>\n",
       "      <td>64,36M</td>\n",
       "      <td>-1,28%</td>\n",
       "    </tr>\n",
       "    <tr>\n",
       "      <th>...</th>\n",
       "      <td>...</td>\n",
       "      <td>...</td>\n",
       "      <td>...</td>\n",
       "      <td>...</td>\n",
       "      <td>...</td>\n",
       "      <td>...</td>\n",
       "    </tr>\n",
       "    <tr>\n",
       "      <th>2017-05-26</th>\n",
       "      <td>13,12</td>\n",
       "      <td>12,92</td>\n",
       "      <td>13,23</td>\n",
       "      <td>12,86</td>\n",
       "      <td>63,10M</td>\n",
       "      <td>-0,46%</td>\n",
       "    </tr>\n",
       "    <tr>\n",
       "      <th>2017-05-25</th>\n",
       "      <td>13,18</td>\n",
       "      <td>13,40</td>\n",
       "      <td>13,61</td>\n",
       "      <td>13,08</td>\n",
       "      <td>44,84M</td>\n",
       "      <td>-1,42%</td>\n",
       "    </tr>\n",
       "    <tr>\n",
       "      <th>2017-05-24</th>\n",
       "      <td>13,37</td>\n",
       "      <td>13,19</td>\n",
       "      <td>13,52</td>\n",
       "      <td>13,13</td>\n",
       "      <td>53,98M</td>\n",
       "      <td>3,32%</td>\n",
       "    </tr>\n",
       "    <tr>\n",
       "      <th>2017-05-23</th>\n",
       "      <td>12,94</td>\n",
       "      <td>12,90</td>\n",
       "      <td>13,05</td>\n",
       "      <td>12,84</td>\n",
       "      <td>48,35M</td>\n",
       "      <td>0,62%</td>\n",
       "    </tr>\n",
       "    <tr>\n",
       "      <th>2017-05-22</th>\n",
       "      <td>12,86</td>\n",
       "      <td>12,81</td>\n",
       "      <td>12,96</td>\n",
       "      <td>12,47</td>\n",
       "      <td>54,77M</td>\n",
       "      <td>-1,61%</td>\n",
       "    </tr>\n",
       "  </tbody>\n",
       "</table>\n",
       "<p>1257 rows × 6 columns</p>\n",
       "</div>"
      ],
      "text/plain": [
       "           Último Abertura Máxima Mínima     Vol.    Var%\n",
       "Data                                                     \n",
       "2022-06-20  27,73    26,02  28,22  25,93   86,07M   1,54%\n",
       "2022-06-17  27,31    28,17  28,45  26,13  183,27M  -6,09%\n",
       "2022-06-15  29,08    30,00  30,02  28,84   72,19M  -1,76%\n",
       "2022-06-14  29,60    29,66  30,25  29,24   68,57M   1,13%\n",
       "2022-06-13  29,27    29,02  29,58  28,67   64,36M  -1,28%\n",
       "...           ...      ...    ...    ...      ...     ...\n",
       "2017-05-26  13,12    12,92  13,23  12,86   63,10M  -0,46%\n",
       "2017-05-25  13,18    13,40  13,61  13,08   44,84M  -1,42%\n",
       "2017-05-24  13,37    13,19  13,52  13,13   53,98M   3,32%\n",
       "2017-05-23  12,94    12,90  13,05  12,84   48,35M   0,62%\n",
       "2017-05-22  12,86    12,81  12,96  12,47   54,77M  -1,61%\n",
       "\n",
       "[1257 rows x 6 columns]"
      ]
     },
     "execution_count": 10,
     "metadata": {},
     "output_type": "execute_result"
    }
   ],
   "source": [
    "# Converting the first columns to a data-type format\n",
    "\n",
    "from datetime import datetime\n",
    "dateparse = lambda dates: datetime.strptime(dates, '%d.%m.%Y')\n",
    "base = pd.read_csv('PETR4-Dados-Históricos.csv', parse_dates = ['Data'], index_col = 'Data', date_parser = dateparse)\n",
    "base"
   ]
  },
  {
   "cell_type": "code",
   "execution_count": 11,
   "metadata": {},
   "outputs": [],
   "source": [
    "# We will use the closing values as the parameter of the time series, so we can drop all the other columns\n",
    "\n",
    "base.drop(columns = ['Abertura', 'Máxima', 'Mínima', 'Vol.','Var%'], axis = 1, inplace = True)"
   ]
  },
  {
   "cell_type": "code",
   "execution_count": 12,
   "metadata": {},
   "outputs": [],
   "source": [
    "# No we will substitute the commas in the column to dots\n",
    "\n",
    "base = base.applymap(lambda x: str(x.replace(',','.')))"
   ]
  },
  {
   "cell_type": "code",
   "execution_count": 15,
   "metadata": {},
   "outputs": [
    {
     "data": {
      "text/plain": [
       "Último    float64\n",
       "dtype: object"
      ]
     },
     "execution_count": 15,
     "metadata": {},
     "output_type": "execute_result"
    }
   ],
   "source": [
    "# Converting the values of the column to float type\n",
    "\n",
    "base[\"Último\"] = base[\"Último\"].astype(str).astype(float)\n",
    "base.dtypes"
   ]
  },
  {
   "cell_type": "code",
   "execution_count": 16,
   "metadata": {},
   "outputs": [
    {
     "data": {
      "text/html": [
       "<div>\n",
       "<style scoped>\n",
       "    .dataframe tbody tr th:only-of-type {\n",
       "        vertical-align: middle;\n",
       "    }\n",
       "\n",
       "    .dataframe tbody tr th {\n",
       "        vertical-align: top;\n",
       "    }\n",
       "\n",
       "    .dataframe thead th {\n",
       "        text-align: right;\n",
       "    }\n",
       "</style>\n",
       "<table border=\"1\" class=\"dataframe\">\n",
       "  <thead>\n",
       "    <tr style=\"text-align: right;\">\n",
       "      <th></th>\n",
       "      <th>Último</th>\n",
       "    </tr>\n",
       "    <tr>\n",
       "      <th>Data</th>\n",
       "      <th></th>\n",
       "    </tr>\n",
       "  </thead>\n",
       "  <tbody>\n",
       "    <tr>\n",
       "      <th>2017-05-22</th>\n",
       "      <td>12.86</td>\n",
       "    </tr>\n",
       "    <tr>\n",
       "      <th>2017-05-23</th>\n",
       "      <td>12.94</td>\n",
       "    </tr>\n",
       "    <tr>\n",
       "      <th>2017-05-24</th>\n",
       "      <td>13.37</td>\n",
       "    </tr>\n",
       "    <tr>\n",
       "      <th>2017-05-25</th>\n",
       "      <td>13.18</td>\n",
       "    </tr>\n",
       "    <tr>\n",
       "      <th>2017-05-26</th>\n",
       "      <td>13.12</td>\n",
       "    </tr>\n",
       "    <tr>\n",
       "      <th>...</th>\n",
       "      <td>...</td>\n",
       "    </tr>\n",
       "    <tr>\n",
       "      <th>2022-06-13</th>\n",
       "      <td>29.27</td>\n",
       "    </tr>\n",
       "    <tr>\n",
       "      <th>2022-06-14</th>\n",
       "      <td>29.60</td>\n",
       "    </tr>\n",
       "    <tr>\n",
       "      <th>2022-06-15</th>\n",
       "      <td>29.08</td>\n",
       "    </tr>\n",
       "    <tr>\n",
       "      <th>2022-06-17</th>\n",
       "      <td>27.31</td>\n",
       "    </tr>\n",
       "    <tr>\n",
       "      <th>2022-06-20</th>\n",
       "      <td>27.73</td>\n",
       "    </tr>\n",
       "  </tbody>\n",
       "</table>\n",
       "<p>1257 rows × 1 columns</p>\n",
       "</div>"
      ],
      "text/plain": [
       "            Último\n",
       "Data              \n",
       "2017-05-22   12.86\n",
       "2017-05-23   12.94\n",
       "2017-05-24   13.37\n",
       "2017-05-25   13.18\n",
       "2017-05-26   13.12\n",
       "...            ...\n",
       "2022-06-13   29.27\n",
       "2022-06-14   29.60\n",
       "2022-06-15   29.08\n",
       "2022-06-17   27.31\n",
       "2022-06-20   27.73\n",
       "\n",
       "[1257 rows x 1 columns]"
      ]
     },
     "execution_count": 16,
     "metadata": {},
     "output_type": "execute_result"
    }
   ],
   "source": [
    "# Notice that the dates are inverted, so we will rever the order of the time series\n",
    "base = base.iloc[::-1]\n",
    "base"
   ]
  },
  {
   "cell_type": "code",
   "execution_count": 17,
   "metadata": {},
   "outputs": [],
   "source": [
    "# Creating the training and test bases. \n",
    "# For the training base we will take the same time series minus 30 days\n",
    "# For the test base we will take the entire time series\n",
    "\n",
    "base_treinamento = base.iloc[0:1227,:]\n",
    "base_teste = base.copy()"
   ]
  },
  {
   "cell_type": "code",
   "execution_count": 18,
   "metadata": {},
   "outputs": [
    {
     "data": {
      "text/plain": [
       "((1227, 1), (1257, 1))"
      ]
     },
     "execution_count": 18,
     "metadata": {},
     "output_type": "execute_result"
    }
   ],
   "source": [
    "base_treinamento.shape, base_teste.shape"
   ]
  },
  {
   "cell_type": "code",
   "execution_count": 19,
   "metadata": {},
   "outputs": [
    {
     "data": {
      "text/plain": [
       "(Timestamp('2017-05-22 00:00:00'), Timestamp('2022-05-06 00:00:00'))"
      ]
     },
     "execution_count": 19,
     "metadata": {},
     "output_type": "execute_result"
    }
   ],
   "source": [
    "# Finding the first and last day in the training base\n",
    "\n",
    "base_treinamento.index.min(), base_treinamento.index.max()"
   ]
  },
  {
   "cell_type": "code",
   "execution_count": 20,
   "metadata": {},
   "outputs": [
    {
     "data": {
      "text/plain": [
       "(Timestamp('2017-05-22 00:00:00'), Timestamp('2022-06-20 00:00:00'))"
      ]
     },
     "execution_count": 20,
     "metadata": {},
     "output_type": "execute_result"
    }
   ],
   "source": [
    "# Finding the first and last day in the test base\n",
    "\n",
    "base_teste.index.min(), base_teste.index.max()"
   ]
  },
  {
   "cell_type": "code",
   "execution_count": 21,
   "metadata": {},
   "outputs": [],
   "source": [
    "# Defining the initial and final points of the training and test ...\n",
    "# ... and then defining the time span of the two bases\n",
    "\n",
    "dt_data_inicial = pd.Timestamp(\"2017-05-22\", freq = 'D')\n",
    "dt_data_final_treinamento = pd.Timestamp(\"2022-05-06\", freq = 'D')\n",
    "dt_previsao_maxima = pd.Timestamp(\"2022-06-20\", freq = 'D')\n",
    "\n",
    "faixa_treinamento = (dt_data_inicial, dt_data_final_treinamento)\n",
    "faixa_teste = (dt_data_inicial, dt_previsao_maxima)"
   ]
  },
  {
   "cell_type": "code",
   "execution_count": 22,
   "metadata": {},
   "outputs": [
    {
     "data": {
      "text/plain": [
       "((Timestamp('2017-05-22 00:00:00', freq='D'),\n",
       "  Timestamp('2022-05-06 00:00:00', freq='D')),\n",
       " (Timestamp('2017-05-22 00:00:00', freq='D'),\n",
       "  Timestamp('2022-06-20 00:00:00', freq='D')))"
      ]
     },
     "execution_count": 22,
     "metadata": {},
     "output_type": "execute_result"
    }
   ],
   "source": [
    "faixa_treinamento, faixa_teste"
   ]
  },
  {
   "cell_type": "code",
   "execution_count": 23,
   "metadata": {},
   "outputs": [],
   "source": [
    "# Creating the lists of the time series\n",
    "\n",
    "serie_temporal_treinamento = []\n",
    "serie_temporal_teste = []\n",
    "\n",
    "serie_temporal_treinamento.append(base_treinamento[faixa_treinamento[0]:faixa_treinamento[1]]['Último'])\n",
    "serie_temporal_teste.append(base_teste[faixa_teste[0]:faixa_teste[1]]['Último'])"
   ]
  },
  {
   "cell_type": "code",
   "execution_count": 24,
   "metadata": {},
   "outputs": [
    {
     "data": {
      "text/plain": [
       "(list, list)"
      ]
     },
     "execution_count": 24,
     "metadata": {},
     "output_type": "execute_result"
    }
   ],
   "source": [
    "type(serie_temporal_treinamento), type(serie_temporal_teste)"
   ]
  },
  {
   "cell_type": "code",
   "execution_count": 25,
   "metadata": {},
   "outputs": [
    {
     "data": {
      "text/plain": [
       "(1227, 1257)"
      ]
     },
     "execution_count": 25,
     "metadata": {},
     "output_type": "execute_result"
    }
   ],
   "source": [
    "len(serie_temporal_treinamento[0]), len(serie_temporal_teste[0])"
   ]
  },
  {
   "cell_type": "code",
   "execution_count": 68,
   "metadata": {},
   "outputs": [
    {
     "data": {
      "image/png": "[encoded data removed]",
      "text/plain": [
       "<Figure size 864x432 with 1 Axes>"
      ]
     },
     "metadata": {
      "needs_background": "light"
     },
     "output_type": "display_data"
    }
   ],
   "source": [
    "# Plotting the training and test time series\n",
    "\n",
    "plt.figure(figsize=(12,6))\n",
    "serie_temporal_teste[0].plot(label = \"Teste\")\n",
    "serie_temporal_treinamento[0].plot(label = \"Treinamento\")\n",
    "plt.legend()\n",
    "plt.show()"
   ]
  },
  {
   "cell_type": "code",
   "execution_count": 28,
   "metadata": {},
   "outputs": [],
   "source": [
    "# Encoding and converting the time series to json files (the required format from the DeepAR)\n",
    "\n",
    "def encode_target(ts):\n",
    "    return [x if np.isfinite(x) else \"NaN\" for x in ts]"
   ]
  },
  {
   "cell_type": "code",
   "execution_count": 29,
   "metadata": {},
   "outputs": [
    {
     "data": {
      "text/plain": [
       "[12.86, 12.94, 13.37, 13.18, 13.12]"
      ]
     },
     "execution_count": 29,
     "metadata": {},
     "output_type": "execute_result"
    }
   ],
   "source": [
    "encode_target(serie_temporal_treinamento[0][0:5])"
   ]
  },
  {
   "cell_type": "code",
   "execution_count": 30,
   "metadata": {},
   "outputs": [],
   "source": [
    "def series_to_obj(ts):\n",
    "    obj = {\"start\": str(ts.index[0]), \"target\": encode_target(ts)}\n",
    "    return obj"
   ]
  },
  {
   "cell_type": "code",
   "execution_count": 31,
   "metadata": {},
   "outputs": [
    {
     "data": {
      "text/plain": [
       "{'start': '2017-05-22 00:00:00', 'target': [12.86, 12.94, 13.37, 13.18, 13.12]}"
      ]
     },
     "execution_count": 31,
     "metadata": {},
     "output_type": "execute_result"
    }
   ],
   "source": [
    "series_to_obj(serie_temporal_treinamento[0][0:5])"
   ]
  },
  {
   "cell_type": "code",
   "execution_count": 32,
   "metadata": {},
   "outputs": [],
   "source": [
    "def series_to_jsonline(ts):\n",
    "    return json.dumps(series_to_obj(ts))"
   ]
  },
  {
   "cell_type": "code",
   "execution_count": 33,
   "metadata": {},
   "outputs": [],
   "source": [
    "encoding = 'utf-8'\n",
    "arquivo_json_treinamento = 'train_petr.json'\n",
    "arquivo_json_teste = 'test_petr.json'\n",
    "with open(arquivo_json_treinamento, 'wb') as fp:\n",
    "    for ts in serie_temporal_treinamento:\n",
    "        fp.write(series_to_jsonline(ts).encode(encoding))\n",
    "        fp.write('\\n'.encode(encoding))\n",
    "\n",
    "with open(arquivo_json_teste, 'wb') as fp:\n",
    "    for ts in serie_temporal_teste:\n",
    "        fp.write(series_to_jsonline(ts).encode(encoding))\n",
    "        fp.write('\\n'.encode(encoding))"
   ]
  },
  {
   "cell_type": "markdown",
   "metadata": {},
   "source": [
    "# Configuring the SagmeMaker"
   ]
  },
  {
   "cell_type": "code",
   "execution_count": 36,
   "metadata": {},
   "outputs": [],
   "source": [
    "# Importing the boto3 and sagemaker libraries\n",
    "\n",
    "import boto3\n",
    "import sagemaker"
   ]
  },
  {
   "cell_type": "code",
   "execution_count": 35,
   "metadata": {},
   "outputs": [
    {
     "name": "stdout",
     "output_type": "stream",
     "text": [
      "Role: arn:aws:iam::455943003886:role/service-role/AmazonSageMaker-ExecutionRole-20220609T134820\n",
      "Localização da base de treinamento: s3://petrobras-stock-prices/datasets/petr/train/train_petr.json\n",
      "Localização da base de teste: s3://petrobras-stock-prices/datasets/petr/test/test_petr.json\n",
      "Modelo será salvo em: s3://petrobras-stock-prices/modelos/petr/deepar/output\n"
     ]
    }
   ],
   "source": [
    "# Creating the sagemaker session the the folders to save the datasets in the bucket\n",
    "\n",
    "session = sagemaker.Session()\n",
    "role = sagemaker.get_execution_role()\n",
    "job_name = 'deepar-petr'\n",
    "bucket = 'petrobras-stock-prices'\n",
    "subpasta_dataset = 'datasets/petr'\n",
    "subpasta_modelo = 'modelos/petr/deepar'\n",
    "s3_train_data = 's3://{}/{}/train/{}'.format(bucket, subpasta_dataset, 'train_petr.json')\n",
    "s3_test_data = 's3://{}/{}/test/{}'.format(bucket, subpasta_dataset, 'test_petr.json')\n",
    "output_location = 's3://{}/{}/output'.format(bucket, subpasta_modelo)\n",
    "\n",
    "print('Role: {}'.format(role))\n",
    "print('Localização da base de treinamento: {}'.format(s3_train_data))\n",
    "print('Localização da base de teste: {}'.format(s3_test_data))\n",
    "print('Modelo será salvo em: {}'.format(output_location))"
   ]
  },
  {
   "cell_type": "code",
   "execution_count": 37,
   "metadata": {},
   "outputs": [],
   "source": [
    "# Exporting the files to the bucket\n",
    "\n",
    "def escreve_s3(arquivo, bucket, nome):\n",
    "    with open(arquivo, 'rb') as f:\n",
    "        return boto3.Session().resource('s3').Bucket(bucket).Object(nome).upload_fileobj(f)"
   ]
  },
  {
   "cell_type": "code",
   "execution_count": 38,
   "metadata": {},
   "outputs": [],
   "source": [
    "escreve_s3('train_petr.json', bucket, os.path.join(subpasta_dataset, 'train', 'train_petr.json'))\n",
    "escreve_s3('test_petr.json', bucket, os.path.join(subpasta_dataset, 'test', 'test_petr.json'))"
   ]
  },
  {
   "cell_type": "markdown",
   "metadata": {},
   "source": [
    "# Training with the DeepAR"
   ]
  },
  {
   "cell_type": "code",
   "execution_count": 39,
   "metadata": {},
   "outputs": [],
   "source": [
    "# Creating the container\n",
    "\n",
    "container = sagemaker.image_uris.retrieve(framework = 'forecasting-deepar', region = session.boto_region_name)"
   ]
  },
  {
   "cell_type": "code",
   "execution_count": 40,
   "metadata": {},
   "outputs": [],
   "source": [
    "# Creating the deepar architecture\n",
    "\n",
    "deepar = sagemaker.estimator.Estimator(image_uri = container,\n",
    "                                       role = role,\n",
    "                                       instance_count = 1,\n",
    "                                       instance_type = 'ml.m5.large',\n",
    "                                       output_path = output_location,\n",
    "                                       sagemaker_session = session,\n",
    "                                       base_job_name = job_name,\n",
    "                                       use_spot_instances = True,\n",
    "                                       max_run = 3600,\n",
    "                                       max_wait = 3600)"
   ]
  },
  {
   "cell_type": "code",
   "execution_count": 41,
   "metadata": {},
   "outputs": [],
   "source": [
    "# Setting the hyperparameters\n",
    "\n",
    "freq = 'D'\n",
    "prediction_length = 30\n",
    "context_length = 30"
   ]
  },
  {
   "cell_type": "code",
   "execution_count": 42,
   "metadata": {},
   "outputs": [],
   "source": [
    "hyperparametros = {\n",
    "    'time_freq': freq,\n",
    "    'epochs': \"20\",\n",
    "    'context_length': str(context_length),\n",
    "    'prediction_length': str(prediction_length)\n",
    "}"
   ]
  },
  {
   "cell_type": "code",
   "execution_count": 43,
   "metadata": {},
   "outputs": [],
   "source": [
    "# Seending the hyperparameters to deepar\n",
    "\n",
    "deepar.set_hyperparameters(**hyperparametros)"
   ]
  },
  {
   "cell_type": "code",
   "execution_count": 44,
   "metadata": {},
   "outputs": [
    {
     "data": {
      "text/plain": [
       "{'train': 's3://petrobras-stock-prices/datasets/petr/train/train_petr.json',\n",
       " 'test': 's3://petrobras-stock-prices/datasets/petr/test/test_petr.json'}"
      ]
     },
     "execution_count": 44,
     "metadata": {},
     "output_type": "execute_result"
    }
   ],
   "source": [
    "# Defining the channels of the data\n",
    "\n",
    "data_channels = {'train': s3_train_data, 'test': s3_test_data}\n",
    "data_channels"
   ]
  },
  {
   "cell_type": "code",
   "execution_count": 45,
   "metadata": {},
   "outputs": [
    {
     "name": "stdout",
     "output_type": "stream",
     "text": [
      "2022-06-21 14:23:45 Starting - Starting the training job...\n",
      "2022-06-21 14:24:12 Starting - Preparing the instances for trainingProfilerReport-1655821424: InProgress\n",
      "...............\n",
      "2022-06-21 14:26:39 Downloading - Downloading input data...\n",
      "2022-06-21 14:26:59 Training - Downloading the training image.....\u001b[34mArguments: train\u001b[0m\n",
      "\u001b[34m/opt/amazon/lib/python3.7/site-packages/jsonref.py:8: DeprecationWarning: Using or importing the ABCs from 'collections' instead of from 'collections.abc' is deprecated since Python 3.3,and in 3.9 it will stop working\n",
      "  from collections import Mapping, MutableMapping, Sequence\u001b[0m\n",
      "\u001b[34m[06/21/2022 14:28:03 INFO 140457310791488] Reading default configuration from /opt/amazon/lib/python3.7/site-packages/algorithm/resources/default-input.json: {'_kvstore': 'auto', '_num_gpus': 'auto', '_num_kv_servers': 'auto', '_tuning_objective_metric': '', 'cardinality': 'auto', 'dropout_rate': '0.10', 'early_stopping_patience': '', 'embedding_dimension': '10', 'learning_rate': '0.001', 'likelihood': 'student-t', 'mini_batch_size': '128', 'num_cells': '40', 'num_dynamic_feat': 'auto', 'num_eval_samples': '100', 'num_layers': '2', 'test_quantiles': '[0.1, 0.2, 0.3, 0.4, 0.5, 0.6, 0.7, 0.8, 0.9]'}\u001b[0m\n",
      "\u001b[34m[06/21/2022 14:28:03 INFO 140457310791488] Merging with provided configuration from /opt/ml/input/config/hyperparameters.json: {'context_length': '30', 'epochs': '20', 'prediction_length': '30', 'time_freq': 'D'}\u001b[0m\n",
      "\u001b[34m[06/21/2022 14:28:03 INFO 140457310791488] Final configuration: {'_kvstore': 'auto', '_num_gpus': 'auto', '_num_kv_servers': 'auto', '_tuning_objective_metric': '', 'cardinality': 'auto', 'dropout_rate': '0.10', 'early_stopping_patience': '', 'embedding_dimension': '10', 'learning_rate': '0.001', 'likelihood': 'student-t', 'mini_batch_size': '128', 'num_cells': '40', 'num_dynamic_feat': 'auto', 'num_eval_samples': '100', 'num_layers': '2', 'test_quantiles': '[0.1, 0.2, 0.3, 0.4, 0.5, 0.6, 0.7, 0.8, 0.9]', 'context_length': '30', 'epochs': '20', 'prediction_length': '30', 'time_freq': 'D'}\u001b[0m\n",
      "\u001b[34mProcess 1 is a worker.\u001b[0m\n",
      "\u001b[34m[06/21/2022 14:28:03 INFO 140457310791488] Detected entry point for worker worker\u001b[0m\n",
      "\u001b[34m[06/21/2022 14:28:03 INFO 140457310791488] random_seed is None\u001b[0m\n",
      "\u001b[34m[06/21/2022 14:28:03 INFO 140457310791488] [cardinality=auto] `cat` field was NOT found in the file `/opt/ml/input/data/train/train_petr.json` and will NOT be used for training.\u001b[0m\n",
      "\u001b[34m[06/21/2022 14:28:03 INFO 140457310791488] [num_dynamic_feat=auto] `dynamic_feat` field was NOT found in the file `/opt/ml/input/data/train/train_petr.json` and will NOT be used for training.\u001b[0m\n",
      "\u001b[34m[06/21/2022 14:28:03 INFO 140457310791488] Training set statistics:\u001b[0m\n",
      "\u001b[34m[06/21/2022 14:28:03 INFO 140457310791488] Real time series\u001b[0m\n",
      "\u001b[34m[06/21/2022 14:28:03 INFO 140457310791488] number of time series: 1\u001b[0m\n",
      "\u001b[34m[06/21/2022 14:28:03 INFO 140457310791488] number of observations: 1227\u001b[0m\n",
      "\u001b[34m[06/21/2022 14:28:03 INFO 140457310791488] mean target length: 1227.0\u001b[0m\n",
      "\u001b[34m[06/21/2022 14:28:03 INFO 140457310791488] min/mean/max target: 11.170000076293945/23.279537235126323/34.66999816894531\u001b[0m\n",
      "\u001b[34m[06/21/2022 14:28:03 INFO 140457310791488] mean abs(target): 23.279537235126323\u001b[0m\n",
      "\u001b[34m[06/21/2022 14:28:03 INFO 140457310791488] contains missing values: no\u001b[0m\n",
      "\u001b[34m[06/21/2022 14:28:03 INFO 140457310791488] Small number of time series. Doing 1280 passes over dataset with prob 1.0 per epoch.\u001b[0m\n",
      "\u001b[34m[06/21/2022 14:28:03 INFO 140457310791488] Test set statistics:\u001b[0m\n",
      "\u001b[34m[06/21/2022 14:28:03 INFO 140457310791488] Real time series\u001b[0m\n",
      "\u001b[34m[06/21/2022 14:28:03 INFO 140457310791488] number of time series: 1\u001b[0m\n",
      "\u001b[34m[06/21/2022 14:28:03 INFO 140457310791488] number of observations: 1257\u001b[0m\n",
      "\u001b[34m[06/21/2022 14:28:03 INFO 140457310791488] mean target length: 1257.0\u001b[0m\n",
      "\u001b[34m[06/21/2022 14:28:03 INFO 140457310791488] min/mean/max target: 11.170000076293945/23.475338106603022/36.20000076293945\u001b[0m\n",
      "\u001b[34m[06/21/2022 14:28:03 INFO 140457310791488] mean abs(target): 23.475338106603022\u001b[0m\n",
      "\u001b[34m[06/21/2022 14:28:03 INFO 140457310791488] contains missing values: no\u001b[0m\n",
      "\u001b[34m/opt/amazon/lib/python3.7/site-packages/algorithm/core/date_feature_set.py:44: FutureWarning: weekofyear and week have been deprecated, please use DatetimeIndex.isocalendar().week instead, which returns a Series.  To exactly reproduce the behavior of week and weekofyear and return an Index, you may call pd.Int64Index(idx.isocalendar().week)\n",
      "  return index.weekofyear / 51.0 - 0.5\u001b[0m\n",
      "\u001b[34m[06/21/2022 14:28:03 INFO 140457310791488] #memory_usage::<batchbuffer> = 89.794921875 mb\u001b[0m\n",
      "\u001b[34m[06/21/2022 14:28:03 INFO 140457310791488] nvidia-smi: took 0.031 seconds to run.\u001b[0m\n",
      "\u001b[34m[06/21/2022 14:28:03 INFO 140457310791488] nvidia-smi identified 0 GPUs.\u001b[0m\n",
      "\u001b[34m[06/21/2022 14:28:03 INFO 140457310791488] Number of GPUs being used: 0\u001b[0m\n",
      "\u001b[34m[06/21/2022 14:28:03 INFO 140457310791488] Create Store: local\u001b[0m\n",
      "\u001b[34m#metrics {\"StartTime\": 1655821683.7725616, \"EndTime\": 1655821684.1221313, \"Dimensions\": {\"Algorithm\": \"AWS/DeepAR\", \"Host\": \"algo-1\", \"Operation\": \"training\"}, \"Metrics\": {\"get_graph.time\": {\"sum\": 347.2027778625488, \"count\": 1, \"min\": 347.2027778625488, \"max\": 347.2027778625488}}}\u001b[0m\n",
      "\u001b[34m[06/21/2022 14:28:04 INFO 140457310791488] Number of GPUs being used: 0\u001b[0m\n",
      "\n",
      "2022-06-21 14:27:59 Training - Training image download completed. Training in progress.\u001b[34m[06/21/2022 14:28:04 INFO 140457310791488] #memory_usage::<model> = 39 mb\u001b[0m\n",
      "\u001b[34m#metrics {\"StartTime\": 1655821684.1222625, \"EndTime\": 1655821684.5881228, \"Dimensions\": {\"Algorithm\": \"AWS/DeepAR\", \"Host\": \"algo-1\", \"Operation\": \"training\"}, \"Metrics\": {\"initialize.time\": {\"sum\": 815.3903484344482, \"count\": 1, \"min\": 815.3903484344482, \"max\": 815.3903484344482}}}\u001b[0m\n",
      "\u001b[34m[06/21/2022 14:28:06 INFO 140457310791488] Epoch[0] Batch[0] avg_epoch_loss=4.531302\u001b[0m\n",
      "\u001b[34m[06/21/2022 14:28:06 INFO 140457310791488] #quality_metric: host=algo-1, epoch=0, batch=0 train loss <loss>=4.531301975250244\u001b[0m\n",
      "\u001b[34m[06/21/2022 14:28:08 INFO 140457310791488] Epoch[0] Batch[5] avg_epoch_loss=3.939556\u001b[0m\n",
      "\u001b[34m[06/21/2022 14:28:08 INFO 140457310791488] #quality_metric: host=algo-1, epoch=0, batch=5 train loss <loss>=3.9395557244618735\u001b[0m\n",
      "\u001b[34m[06/21/2022 14:28:08 INFO 140457310791488] Epoch[0] Batch [5]#011Speed: 307.45 samples/sec#011loss=3.939556\u001b[0m\n",
      "\u001b[34m[06/21/2022 14:28:10 INFO 140457310791488] processed a total of 1263 examples\u001b[0m\n",
      "\u001b[34m#metrics {\"StartTime\": 1655821684.5882123, \"EndTime\": 1655821690.1361284, \"Dimensions\": {\"Algorithm\": \"AWS/DeepAR\", \"Host\": \"algo-1\", \"Operation\": \"training\"}, \"Metrics\": {\"epochs\": {\"sum\": 20.0, \"count\": 1, \"min\": 20, \"max\": 20}, \"update.time\": {\"sum\": 5547.811508178711, \"count\": 1, \"min\": 5547.811508178711, \"max\": 5547.811508178711}}}\u001b[0m\n",
      "\u001b[34m[06/21/2022 14:28:10 INFO 140457310791488] #throughput_metric: host=algo-1, train throughput=227.64459070108086 records/second\u001b[0m\n",
      "\u001b[34m[06/21/2022 14:28:10 INFO 140457310791488] #progress_metric: host=algo-1, completed 5.0 % of epochs\u001b[0m\n",
      "\u001b[34m[06/21/2022 14:28:10 INFO 140457310791488] #quality_metric: host=algo-1, epoch=0, train loss <loss>=3.701067876815796\u001b[0m\n",
      "\u001b[34m[06/21/2022 14:28:11 INFO 140457310791488] Epoch[1] Batch[0] avg_epoch_loss=3.033334\u001b[0m\n",
      "\u001b[34m[06/21/2022 14:28:11 INFO 140457310791488] #quality_metric: host=algo-1, epoch=1, batch=0 train loss <loss>=3.0333337783813477\u001b[0m\n",
      "\u001b[34m[06/21/2022 14:28:13 INFO 140457310791488] Epoch[1] Batch[5] avg_epoch_loss=2.832265\u001b[0m\n",
      "\u001b[34m[06/21/2022 14:28:13 INFO 140457310791488] #quality_metric: host=algo-1, epoch=1, batch=5 train loss <loss>=2.832265297571818\u001b[0m\n",
      "\u001b[34m[06/21/2022 14:28:13 INFO 140457310791488] Epoch[1] Batch [5]#011Speed: 341.14 samples/sec#011loss=2.832265\u001b[0m\n",
      "\u001b[34m[06/21/2022 14:28:15 INFO 140457310791488] Epoch[1] Batch[10] avg_epoch_loss=2.647309\u001b[0m\n",
      "\u001b[34m[06/21/2022 14:28:15 INFO 140457310791488] #quality_metric: host=algo-1, epoch=1, batch=10 train loss <loss>=2.425360918045044\u001b[0m\n",
      "\u001b[34m[06/21/2022 14:28:15 INFO 140457310791488] Epoch[1] Batch [10]#011Speed: 359.70 samples/sec#011loss=2.425361\u001b[0m\n",
      "\u001b[34m[06/21/2022 14:28:15 INFO 140457310791488] processed a total of 1296 examples\u001b[0m\n",
      "\u001b[34m#metrics {\"StartTime\": 1655821690.136391, \"EndTime\": 1655821695.501823, \"Dimensions\": {\"Algorithm\": \"AWS/DeepAR\", \"Host\": \"algo-1\", \"Operation\": \"training\"}, \"Metrics\": {\"update.time\": {\"sum\": 5364.645719528198, \"count\": 1, \"min\": 5364.645719528198, \"max\": 5364.645719528198}}}\u001b[0m\n",
      "\u001b[34m[06/21/2022 14:28:15 INFO 140457310791488] #throughput_metric: host=algo-1, train throughput=241.57431305337357 records/second\u001b[0m\n",
      "\u001b[34m[06/21/2022 14:28:15 INFO 140457310791488] #progress_metric: host=algo-1, completed 10.0 % of epochs\u001b[0m\n",
      "\u001b[34m[06/21/2022 14:28:15 INFO 140457310791488] #quality_metric: host=algo-1, epoch=1, train loss <loss>=2.647308761423284\u001b[0m\n",
      "\u001b[34m[06/21/2022 14:28:16 INFO 140457310791488] Epoch[2] Batch[0] avg_epoch_loss=2.715662\u001b[0m\n",
      "\u001b[34m[06/21/2022 14:28:16 INFO 140457310791488] #quality_metric: host=algo-1, epoch=2, batch=0 train loss <loss>=2.7156622409820557\u001b[0m\n",
      "\u001b[34m[06/21/2022 14:28:18 INFO 140457310791488] Epoch[2] Batch[5] avg_epoch_loss=2.456855\u001b[0m\n",
      "\u001b[34m[06/21/2022 14:28:18 INFO 140457310791488] #quality_metric: host=algo-1, epoch=2, batch=5 train loss <loss>=2.456854820251465\u001b[0m\n",
      "\u001b[34m[06/21/2022 14:28:18 INFO 140457310791488] Epoch[2] Batch [5]#011Speed: 367.14 samples/sec#011loss=2.456855\u001b[0m\n",
      "\u001b[34m[06/21/2022 14:28:20 INFO 140457310791488] Epoch[2] Batch[10] avg_epoch_loss=2.301133\u001b[0m\n",
      "\u001b[34m[06/21/2022 14:28:20 INFO 140457310791488] #quality_metric: host=algo-1, epoch=2, batch=10 train loss <loss>=2.1142675161361693\u001b[0m\n",
      "\u001b[34m[06/21/2022 14:28:20 INFO 140457310791488] Epoch[2] Batch [10]#011Speed: 356.61 samples/sec#011loss=2.114268\u001b[0m\n",
      "\u001b[34m[06/21/2022 14:28:20 INFO 140457310791488] processed a total of 1292 examples\u001b[0m\n",
      "\u001b[34m#metrics {\"StartTime\": 1655821695.5019476, \"EndTime\": 1655821700.4837747, \"Dimensions\": {\"Algorithm\": \"AWS/DeepAR\", \"Host\": \"algo-1\", \"Operation\": \"training\"}, \"Metrics\": {\"update.time\": {\"sum\": 4981.170177459717, \"count\": 1, \"min\": 4981.170177459717, \"max\": 4981.170177459717}}}\u001b[0m\n",
      "\u001b[34m[06/21/2022 14:28:20 INFO 140457310791488] #throughput_metric: host=algo-1, train throughput=259.367766175424 records/second\u001b[0m\n",
      "\u001b[34m[06/21/2022 14:28:20 INFO 140457310791488] #progress_metric: host=algo-1, completed 15.0 % of epochs\u001b[0m\n",
      "\u001b[34m[06/21/2022 14:28:20 INFO 140457310791488] #quality_metric: host=algo-1, epoch=2, train loss <loss>=2.301133318380876\u001b[0m\n",
      "\u001b[34m[06/21/2022 14:28:21 INFO 140457310791488] Epoch[3] Batch[0] avg_epoch_loss=2.539372\u001b[0m\n",
      "\u001b[34m[06/21/2022 14:28:21 INFO 140457310791488] #quality_metric: host=algo-1, epoch=3, batch=0 train loss <loss>=2.539372444152832\u001b[0m\n",
      "\u001b[34m[06/21/2022 14:28:23 INFO 140457310791488] Epoch[3] Batch[5] avg_epoch_loss=2.336228\u001b[0m\n",
      "\u001b[34m[06/21/2022 14:28:23 INFO 140457310791488] #quality_metric: host=algo-1, epoch=3, batch=5 train loss <loss>=2.336228092511495\u001b[0m\n",
      "\u001b[34m[06/21/2022 14:28:23 INFO 140457310791488] Epoch[3] Batch [5]#011Speed: 357.55 samples/sec#011loss=2.336228\u001b[0m\n",
      "\u001b[34m[06/21/2022 14:28:24 INFO 140457310791488] processed a total of 1255 examples\u001b[0m\n",
      "\u001b[34m#metrics {\"StartTime\": 1655821700.4839087, \"EndTime\": 1655821704.992638, \"Dimensions\": {\"Algorithm\": \"AWS/DeepAR\", \"Host\": \"algo-1\", \"Operation\": \"training\"}, \"Metrics\": {\"update.time\": {\"sum\": 4508.0320835113525, \"count\": 1, \"min\": 4508.0320835113525, \"max\": 4508.0320835113525}}}\u001b[0m\n",
      "\u001b[34m[06/21/2022 14:28:24 INFO 140457310791488] #throughput_metric: host=algo-1, train throughput=278.3638218357829 records/second\u001b[0m\n",
      "\u001b[34m[06/21/2022 14:28:24 INFO 140457310791488] #progress_metric: host=algo-1, completed 20.0 % of epochs\u001b[0m\n",
      "\u001b[34m[06/21/2022 14:28:24 INFO 140457310791488] #quality_metric: host=algo-1, epoch=3, train loss <loss>=2.2584617853164675\u001b[0m\n",
      "\u001b[34m[06/21/2022 14:28:26 INFO 140457310791488] Epoch[4] Batch[0] avg_epoch_loss=2.079278\u001b[0m\n",
      "\u001b[34m[06/21/2022 14:28:26 INFO 140457310791488] #quality_metric: host=algo-1, epoch=4, batch=0 train loss <loss>=2.0792782306671143\u001b[0m\n",
      "\u001b[34m[06/21/2022 14:28:28 INFO 140457310791488] Epoch[4] Batch[5] avg_epoch_loss=2.104792\u001b[0m\n",
      "\u001b[34m[06/21/2022 14:28:28 INFO 140457310791488] #quality_metric: host=algo-1, epoch=4, batch=5 train loss <loss>=2.1047918796539307\u001b[0m\n",
      "\u001b[34m[06/21/2022 14:28:28 INFO 140457310791488] Epoch[4] Batch [5]#011Speed: 369.53 samples/sec#011loss=2.104792\u001b[0m\n",
      "\u001b[34m[06/21/2022 14:28:29 INFO 140457310791488] Epoch[4] Batch[10] avg_epoch_loss=2.088697\u001b[0m\n",
      "\u001b[34m[06/21/2022 14:28:29 INFO 140457310791488] #quality_metric: host=algo-1, epoch=4, batch=10 train loss <loss>=2.0693824768066404\u001b[0m\n",
      "\u001b[34m[06/21/2022 14:28:29 INFO 140457310791488] Epoch[4] Batch [10]#011Speed: 351.60 samples/sec#011loss=2.069382\u001b[0m\n",
      "\u001b[34m[06/21/2022 14:28:29 INFO 140457310791488] processed a total of 1301 examples\u001b[0m\n",
      "\u001b[34m#metrics {\"StartTime\": 1655821704.993024, \"EndTime\": 1655821709.8389065, \"Dimensions\": {\"Algorithm\": \"AWS/DeepAR\", \"Host\": \"algo-1\", \"Operation\": \"training\"}, \"Metrics\": {\"update.time\": {\"sum\": 4844.7113037109375, \"count\": 1, \"min\": 4844.7113037109375, \"max\": 4844.7113037109375}}}\u001b[0m\n",
      "\u001b[34m[06/21/2022 14:28:29 INFO 140457310791488] #throughput_metric: host=algo-1, train throughput=268.5340552652298 records/second\u001b[0m\n",
      "\u001b[34m[06/21/2022 14:28:29 INFO 140457310791488] #progress_metric: host=algo-1, completed 25.0 % of epochs\u001b[0m\n",
      "\u001b[34m[06/21/2022 14:28:29 INFO 140457310791488] #quality_metric: host=algo-1, epoch=4, train loss <loss>=2.088696696541526\u001b[0m\n",
      "\u001b[34m[06/21/2022 14:28:31 INFO 140457310791488] Epoch[5] Batch[0] avg_epoch_loss=2.173561\u001b[0m\n",
      "\u001b[34m[06/21/2022 14:28:31 INFO 140457310791488] #quality_metric: host=algo-1, epoch=5, batch=0 train loss <loss>=2.1735610961914062\u001b[0m\n",
      "\u001b[34m[06/21/2022 14:28:32 INFO 140457310791488] Epoch[5] Batch[5] avg_epoch_loss=2.046317\u001b[0m\n",
      "\u001b[34m[06/21/2022 14:28:32 INFO 140457310791488] #quality_metric: host=algo-1, epoch=5, batch=5 train loss <loss>=2.0463167230288186\u001b[0m\n",
      "\u001b[34m[06/21/2022 14:28:32 INFO 140457310791488] Epoch[5] Batch [5]#011Speed: 363.42 samples/sec#011loss=2.046317\u001b[0m\n",
      "\u001b[34m[06/21/2022 14:28:34 INFO 140457310791488] Epoch[5] Batch[10] avg_epoch_loss=2.026844\u001b[0m\n",
      "\u001b[34m[06/21/2022 14:28:34 INFO 140457310791488] #quality_metric: host=algo-1, epoch=5, batch=10 train loss <loss>=2.0034761667251586\u001b[0m\n",
      "\u001b[34m[06/21/2022 14:28:34 INFO 140457310791488] Epoch[5] Batch [10]#011Speed: 352.75 samples/sec#011loss=2.003476\u001b[0m\n",
      "\u001b[34m[06/21/2022 14:28:34 INFO 140457310791488] processed a total of 1281 examples\u001b[0m\n",
      "\u001b[34m#metrics {\"StartTime\": 1655821709.8389797, \"EndTime\": 1655821714.7031076, \"Dimensions\": {\"Algorithm\": \"AWS/DeepAR\", \"Host\": \"algo-1\", \"Operation\": \"training\"}, \"Metrics\": {\"update.time\": {\"sum\": 4863.720655441284, \"count\": 1, \"min\": 4863.720655441284, \"max\": 4863.720655441284}}}\u001b[0m\n",
      "\u001b[34m[06/21/2022 14:28:34 INFO 140457310791488] #throughput_metric: host=algo-1, train throughput=263.35635667061587 records/second\u001b[0m\n",
      "\u001b[34m[06/21/2022 14:28:34 INFO 140457310791488] #progress_metric: host=algo-1, completed 30.0 % of epochs\u001b[0m\n",
      "\u001b[34m[06/21/2022 14:28:34 INFO 140457310791488] #quality_metric: host=algo-1, epoch=5, train loss <loss>=2.0268437428907915\u001b[0m\n",
      "\u001b[34m[06/21/2022 14:28:36 INFO 140457310791488] Epoch[6] Batch[0] avg_epoch_loss=1.930849\u001b[0m\n",
      "\u001b[34m[06/21/2022 14:28:36 INFO 140457310791488] #quality_metric: host=algo-1, epoch=6, batch=0 train loss <loss>=1.930849313735962\u001b[0m\n",
      "\u001b[34m[06/21/2022 14:28:38 INFO 140457310791488] Epoch[6] Batch[5] avg_epoch_loss=1.966385\u001b[0m\n",
      "\u001b[34m[06/21/2022 14:28:38 INFO 140457310791488] #quality_metric: host=algo-1, epoch=6, batch=5 train loss <loss>=1.9663854638735454\u001b[0m\n",
      "\u001b[34m[06/21/2022 14:28:38 INFO 140457310791488] Epoch[6] Batch [5]#011Speed: 328.14 samples/sec#011loss=1.966385\u001b[0m\n",
      "\u001b[34m[06/21/2022 14:28:39 INFO 140457310791488] processed a total of 1261 examples\u001b[0m\n",
      "\u001b[34m#metrics {\"StartTime\": 1655821714.7034764, \"EndTime\": 1655821719.4619265, \"Dimensions\": {\"Algorithm\": \"AWS/DeepAR\", \"Host\": \"algo-1\", \"Operation\": \"training\"}, \"Metrics\": {\"update.time\": {\"sum\": 4757.238864898682, \"count\": 1, \"min\": 4757.238864898682, \"max\": 4757.238864898682}}}\u001b[0m\n",
      "\u001b[34m[06/21/2022 14:28:39 INFO 140457310791488] #throughput_metric: host=algo-1, train throughput=265.0576105763704 records/second\u001b[0m\n",
      "\u001b[34m[06/21/2022 14:28:39 INFO 140457310791488] #progress_metric: host=algo-1, completed 35.0 % of epochs\u001b[0m\n",
      "\u001b[34m[06/21/2022 14:28:39 INFO 140457310791488] #quality_metric: host=algo-1, epoch=6, train loss <loss>=1.93169047832489\u001b[0m\n",
      "\u001b[34m[06/21/2022 14:28:40 INFO 140457310791488] Epoch[7] Batch[0] avg_epoch_loss=1.913392\u001b[0m\n",
      "\u001b[34m[06/21/2022 14:28:40 INFO 140457310791488] #quality_metric: host=algo-1, epoch=7, batch=0 train loss <loss>=1.913392424583435\u001b[0m\n",
      "\u001b[34m[06/21/2022 14:28:42 INFO 140457310791488] Epoch[7] Batch[5] avg_epoch_loss=1.867292\u001b[0m\n",
      "\u001b[34m[06/21/2022 14:28:42 INFO 140457310791488] #quality_metric: host=algo-1, epoch=7, batch=5 train loss <loss>=1.867292006810506\u001b[0m\n",
      "\u001b[34m[06/21/2022 14:28:42 INFO 140457310791488] Epoch[7] Batch [5]#011Speed: 356.63 samples/sec#011loss=1.867292\u001b[0m\n",
      "\u001b[34m[06/21/2022 14:28:44 INFO 140457310791488] Epoch[7] Batch[10] avg_epoch_loss=1.847639\u001b[0m\n",
      "\u001b[34m[06/21/2022 14:28:44 INFO 140457310791488] #quality_metric: host=algo-1, epoch=7, batch=10 train loss <loss>=1.82405526638031\u001b[0m\n",
      "\u001b[34m[06/21/2022 14:28:44 INFO 140457310791488] Epoch[7] Batch [10]#011Speed: 343.31 samples/sec#011loss=1.824055\u001b[0m\n",
      "\u001b[34m[06/21/2022 14:28:44 INFO 140457310791488] processed a total of 1310 examples\u001b[0m\n",
      "\u001b[34m#metrics {\"StartTime\": 1655821719.462079, \"EndTime\": 1655821724.4517283, \"Dimensions\": {\"Algorithm\": \"AWS/DeepAR\", \"Host\": \"algo-1\", \"Operation\": \"training\"}, \"Metrics\": {\"update.time\": {\"sum\": 4988.8341426849365, \"count\": 1, \"min\": 4988.8341426849365, \"max\": 4988.8341426849365}}}\u001b[0m\n",
      "\u001b[34m[06/21/2022 14:28:44 INFO 140457310791488] #throughput_metric: host=algo-1, train throughput=262.5570262533218 records/second\u001b[0m\n",
      "\u001b[34m[06/21/2022 14:28:44 INFO 140457310791488] #progress_metric: host=algo-1, completed 40.0 % of epochs\u001b[0m\n",
      "\u001b[34m[06/21/2022 14:28:44 INFO 140457310791488] #quality_metric: host=algo-1, epoch=7, train loss <loss>=1.8476389429785989\u001b[0m\n",
      "\u001b[34m[06/21/2022 14:28:45 INFO 140457310791488] Epoch[8] Batch[0] avg_epoch_loss=2.057208\u001b[0m\n",
      "\u001b[34m[06/21/2022 14:28:45 INFO 140457310791488] #quality_metric: host=algo-1, epoch=8, batch=0 train loss <loss>=2.0572078227996826\u001b[0m\n",
      "\u001b[34m[06/21/2022 14:28:47 INFO 140457310791488] Epoch[8] Batch[5] avg_epoch_loss=1.903426\u001b[0m\n",
      "\u001b[34m[06/21/2022 14:28:47 INFO 140457310791488] #quality_metric: host=algo-1, epoch=8, batch=5 train loss <loss>=1.9034258524576824\u001b[0m\n",
      "\u001b[34m[06/21/2022 14:28:47 INFO 140457310791488] Epoch[8] Batch [5]#011Speed: 366.52 samples/sec#011loss=1.903426\u001b[0m\n",
      "\u001b[34m[06/21/2022 14:28:48 INFO 140457310791488] processed a total of 1241 examples\u001b[0m\n",
      "\u001b[34m#metrics {\"StartTime\": 1655821724.452194, \"EndTime\": 1655821728.936129, \"Dimensions\": {\"Algorithm\": \"AWS/DeepAR\", \"Host\": \"algo-1\", \"Operation\": \"training\"}, \"Metrics\": {\"update.time\": {\"sum\": 4482.7985763549805, \"count\": 1, \"min\": 4482.7985763549805, \"max\": 4482.7985763549805}}}\u001b[0m\n",
      "\u001b[34m[06/21/2022 14:28:48 INFO 140457310791488] #throughput_metric: host=algo-1, train throughput=276.82187485424674 records/second\u001b[0m\n",
      "\u001b[34m[06/21/2022 14:28:48 INFO 140457310791488] #progress_metric: host=algo-1, completed 45.0 % of epochs\u001b[0m\n",
      "\u001b[34m[06/21/2022 14:28:48 INFO 140457310791488] #quality_metric: host=algo-1, epoch=8, train loss <loss>=1.853743350505829\u001b[0m\n",
      "\u001b[34m[06/21/2022 14:28:50 INFO 140457310791488] Epoch[9] Batch[0] avg_epoch_loss=1.791309\u001b[0m\n",
      "\u001b[34m[06/21/2022 14:28:50 INFO 140457310791488] #quality_metric: host=algo-1, epoch=9, batch=0 train loss <loss>=1.7913086414337158\u001b[0m\n",
      "\u001b[34m[06/21/2022 14:28:52 INFO 140457310791488] Epoch[9] Batch[5] avg_epoch_loss=1.794260\u001b[0m\n",
      "\u001b[34m[06/21/2022 14:28:52 INFO 140457310791488] #quality_metric: host=algo-1, epoch=9, batch=5 train loss <loss>=1.794260323047638\u001b[0m\n",
      "\u001b[34m[06/21/2022 14:28:52 INFO 140457310791488] Epoch[9] Batch [5]#011Speed: 355.50 samples/sec#011loss=1.794260\u001b[0m\n",
      "\u001b[34m[06/21/2022 14:28:53 INFO 140457310791488] processed a total of 1251 examples\u001b[0m\n",
      "\u001b[34m#metrics {\"StartTime\": 1655821728.936309, \"EndTime\": 1655821733.6044574, \"Dimensions\": {\"Algorithm\": \"AWS/DeepAR\", \"Host\": \"algo-1\", \"Operation\": \"training\"}, \"Metrics\": {\"update.time\": {\"sum\": 4667.181491851807, \"count\": 1, \"min\": 4667.181491851807, \"max\": 4667.181491851807}}}\u001b[0m\n",
      "\u001b[34m[06/21/2022 14:28:53 INFO 140457310791488] #throughput_metric: host=algo-1, train throughput=268.0181720592024 records/second\u001b[0m\n",
      "\u001b[34m[06/21/2022 14:28:53 INFO 140457310791488] #progress_metric: host=algo-1, completed 50.0 % of epochs\u001b[0m\n",
      "\u001b[34m[06/21/2022 14:28:53 INFO 140457310791488] #quality_metric: host=algo-1, epoch=9, train loss <loss>=1.783533251285553\u001b[0m\n",
      "\u001b[34m[06/21/2022 14:28:54 INFO 140457310791488] Epoch[10] Batch[0] avg_epoch_loss=1.707358\u001b[0m\n",
      "\u001b[34m[06/21/2022 14:28:54 INFO 140457310791488] #quality_metric: host=algo-1, epoch=10, batch=0 train loss <loss>=1.7073580026626587\u001b[0m\n",
      "\u001b[34m[06/21/2022 14:28:56 INFO 140457310791488] Epoch[10] Batch[5] avg_epoch_loss=1.732289\u001b[0m\n",
      "\u001b[34m[06/21/2022 14:28:56 INFO 140457310791488] #quality_metric: host=algo-1, epoch=10, batch=5 train loss <loss>=1.7322886784871419\u001b[0m\n",
      "\u001b[34m[06/21/2022 14:28:56 INFO 140457310791488] Epoch[10] Batch [5]#011Speed: 354.58 samples/sec#011loss=1.732289\u001b[0m\n",
      "\u001b[34m[06/21/2022 14:28:58 INFO 140457310791488] processed a total of 1279 examples\u001b[0m\n",
      "\u001b[34m#metrics {\"StartTime\": 1655821733.6048207, \"EndTime\": 1655821738.1789186, \"Dimensions\": {\"Algorithm\": \"AWS/DeepAR\", \"Host\": \"algo-1\", \"Operation\": \"training\"}, \"Metrics\": {\"update.time\": {\"sum\": 4573.010683059692, \"count\": 1, \"min\": 4573.010683059692, \"max\": 4573.010683059692}}}\u001b[0m\n",
      "\u001b[34m[06/21/2022 14:28:58 INFO 140457310791488] #throughput_metric: host=algo-1, train throughput=279.6711424700141 records/second\u001b[0m\n",
      "\u001b[34m[06/21/2022 14:28:58 INFO 140457310791488] #progress_metric: host=algo-1, completed 55.0 % of epochs\u001b[0m\n",
      "\u001b[34m[06/21/2022 14:28:58 INFO 140457310791488] #quality_metric: host=algo-1, epoch=10, train loss <loss>=1.716308867931366\u001b[0m\n",
      "\u001b[34m[06/21/2022 14:28:59 INFO 140457310791488] Epoch[11] Batch[0] avg_epoch_loss=1.711473\u001b[0m\n",
      "\u001b[34m[06/21/2022 14:28:59 INFO 140457310791488] #quality_metric: host=algo-1, epoch=11, batch=0 train loss <loss>=1.7114728689193726\u001b[0m\n",
      "\u001b[34m[06/21/2022 14:29:01 INFO 140457310791488] Epoch[11] Batch[5] avg_epoch_loss=1.660203\u001b[0m\n",
      "\u001b[34m[06/21/2022 14:29:01 INFO 140457310791488] #quality_metric: host=algo-1, epoch=11, batch=5 train loss <loss>=1.6602030197779338\u001b[0m\n",
      "\u001b[34m[06/21/2022 14:29:01 INFO 140457310791488] Epoch[11] Batch [5]#011Speed: 374.52 samples/sec#011loss=1.660203\u001b[0m\n",
      "\u001b[34m[06/21/2022 14:29:03 INFO 140457310791488] Epoch[11] Batch[10] avg_epoch_loss=1.664795\u001b[0m\n",
      "\u001b[34m[06/21/2022 14:29:03 INFO 140457310791488] #quality_metric: host=algo-1, epoch=11, batch=10 train loss <loss>=1.6703045606613158\u001b[0m\n",
      "\u001b[34m[06/21/2022 14:29:03 INFO 140457310791488] Epoch[11] Batch [10]#011Speed: 278.37 samples/sec#011loss=1.670305\u001b[0m\n",
      "\u001b[34m[06/21/2022 14:29:03 INFO 140457310791488] processed a total of 1349 examples\u001b[0m\n",
      "\u001b[34m#metrics {\"StartTime\": 1655821738.1790817, \"EndTime\": 1655821743.505988, \"Dimensions\": {\"Algorithm\": \"AWS/DeepAR\", \"Host\": \"algo-1\", \"Operation\": \"training\"}, \"Metrics\": {\"update.time\": {\"sum\": 5326.066732406616, \"count\": 1, \"min\": 5326.066732406616, \"max\": 5326.066732406616}}}\u001b[0m\n",
      "\u001b[34m[06/21/2022 14:29:03 INFO 140457310791488] #throughput_metric: host=algo-1, train throughput=253.26414872898292 records/second\u001b[0m\n",
      "\u001b[34m[06/21/2022 14:29:03 INFO 140457310791488] #progress_metric: host=algo-1, completed 60.0 % of epochs\u001b[0m\n",
      "\u001b[34m[06/21/2022 14:29:03 INFO 140457310791488] #quality_metric: host=algo-1, epoch=11, train loss <loss>=1.6647946292703801\u001b[0m\n",
      "\u001b[34m[06/21/2022 14:29:04 INFO 140457310791488] Epoch[12] Batch[0] avg_epoch_loss=1.950000\u001b[0m\n",
      "\u001b[34m[06/21/2022 14:29:04 INFO 140457310791488] #quality_metric: host=algo-1, epoch=12, batch=0 train loss <loss>=1.9500001668930054\u001b[0m\n",
      "\u001b[34m[06/21/2022 14:29:06 INFO 140457310791488] Epoch[12] Batch[5] avg_epoch_loss=1.774756\u001b[0m\n",
      "\u001b[34m[06/21/2022 14:29:06 INFO 140457310791488] #quality_metric: host=algo-1, epoch=12, batch=5 train loss <loss>=1.7747563322385151\u001b[0m\n",
      "\u001b[34m[06/21/2022 14:29:06 INFO 140457310791488] Epoch[12] Batch [5]#011Speed: 317.65 samples/sec#011loss=1.774756\u001b[0m\n",
      "\u001b[34m[06/21/2022 14:29:08 INFO 140457310791488] Epoch[12] Batch[10] avg_epoch_loss=1.750301\u001b[0m\n",
      "\u001b[34m[06/21/2022 14:29:08 INFO 140457310791488] #quality_metric: host=algo-1, epoch=12, batch=10 train loss <loss>=1.7209544420242309\u001b[0m\n",
      "\u001b[34m[06/21/2022 14:29:08 INFO 140457310791488] Epoch[12] Batch [10]#011Speed: 339.17 samples/sec#011loss=1.720954\u001b[0m\n",
      "\u001b[34m[06/21/2022 14:29:08 INFO 140457310791488] processed a total of 1291 examples\u001b[0m\n",
      "\u001b[34m#metrics {\"StartTime\": 1655821743.506072, \"EndTime\": 1655821748.7470405, \"Dimensions\": {\"Algorithm\": \"AWS/DeepAR\", \"Host\": \"algo-1\", \"Operation\": \"training\"}, \"Metrics\": {\"update.time\": {\"sum\": 5240.117073059082, \"count\": 1, \"min\": 5240.117073059082, \"max\": 5240.117073059082}}}\u001b[0m\n",
      "\u001b[34m[06/21/2022 14:29:08 INFO 140457310791488] #throughput_metric: host=algo-1, train throughput=246.35015926090855 records/second\u001b[0m\n",
      "\u001b[34m[06/21/2022 14:29:08 INFO 140457310791488] #progress_metric: host=algo-1, completed 65.0 % of epochs\u001b[0m\n",
      "\u001b[34m[06/21/2022 14:29:08 INFO 140457310791488] #quality_metric: host=algo-1, epoch=12, train loss <loss>=1.7503009275956587\u001b[0m\n",
      "\u001b[34m[06/21/2022 14:29:10 INFO 140457310791488] Epoch[13] Batch[0] avg_epoch_loss=1.770370\u001b[0m\n",
      "\u001b[34m[06/21/2022 14:29:10 INFO 140457310791488] #quality_metric: host=algo-1, epoch=13, batch=0 train loss <loss>=1.770369529724121\u001b[0m\n",
      "\u001b[34m[06/21/2022 14:29:11 INFO 140457310791488] Epoch[13] Batch[5] avg_epoch_loss=1.690442\u001b[0m\n",
      "\u001b[34m[06/21/2022 14:29:11 INFO 140457310791488] #quality_metric: host=algo-1, epoch=13, batch=5 train loss <loss>=1.6904423634211223\u001b[0m\n",
      "\u001b[34m[06/21/2022 14:29:11 INFO 140457310791488] Epoch[13] Batch [5]#011Speed: 358.52 samples/sec#011loss=1.690442\u001b[0m\n",
      "\u001b[34m[06/21/2022 14:29:13 INFO 140457310791488] processed a total of 1251 examples\u001b[0m\n",
      "\u001b[34m#metrics {\"StartTime\": 1655821748.7473667, \"EndTime\": 1655821753.233963, \"Dimensions\": {\"Algorithm\": \"AWS/DeepAR\", \"Host\": \"algo-1\", \"Operation\": \"training\"}, \"Metrics\": {\"update.time\": {\"sum\": 4485.440969467163, \"count\": 1, \"min\": 4485.440969467163, \"max\": 4485.440969467163}}}\u001b[0m\n",
      "\u001b[34m[06/21/2022 14:29:13 INFO 140457310791488] #throughput_metric: host=algo-1, train throughput=278.89195218625446 records/second\u001b[0m\n",
      "\u001b[34m[06/21/2022 14:29:13 INFO 140457310791488] #progress_metric: host=algo-1, completed 70.0 % of epochs\u001b[0m\n",
      "\u001b[34m[06/21/2022 14:29:13 INFO 140457310791488] #quality_metric: host=algo-1, epoch=13, train loss <loss>=1.7002054095268249\u001b[0m\n",
      "\u001b[34m[06/21/2022 14:29:14 INFO 140457310791488] Epoch[14] Batch[0] avg_epoch_loss=1.637330\u001b[0m\n",
      "\u001b[34m[06/21/2022 14:29:14 INFO 140457310791488] #quality_metric: host=algo-1, epoch=14, batch=0 train loss <loss>=1.6373296976089478\u001b[0m\n",
      "\u001b[34m[06/21/2022 14:29:16 INFO 140457310791488] Epoch[14] Batch[5] avg_epoch_loss=1.614795\u001b[0m\n",
      "\u001b[34m[06/21/2022 14:29:16 INFO 140457310791488] #quality_metric: host=algo-1, epoch=14, batch=5 train loss <loss>=1.6147952675819397\u001b[0m\n",
      "\u001b[34m[06/21/2022 14:29:16 INFO 140457310791488] Epoch[14] Batch [5]#011Speed: 363.62 samples/sec#011loss=1.614795\u001b[0m\n",
      "\u001b[34m[06/21/2022 14:29:18 INFO 140457310791488] Epoch[14] Batch[10] avg_epoch_loss=1.596076\u001b[0m\n",
      "\u001b[34m[06/21/2022 14:29:18 INFO 140457310791488] #quality_metric: host=algo-1, epoch=14, batch=10 train loss <loss>=1.5736134052276611\u001b[0m\n",
      "\u001b[34m[06/21/2022 14:29:18 INFO 140457310791488] Epoch[14] Batch [10]#011Speed: 351.29 samples/sec#011loss=1.573613\u001b[0m\n",
      "\u001b[34m[06/21/2022 14:29:18 INFO 140457310791488] processed a total of 1296 examples\u001b[0m\n",
      "\u001b[34m#metrics {\"StartTime\": 1655821753.2340903, \"EndTime\": 1655821758.1318958, \"Dimensions\": {\"Algorithm\": \"AWS/DeepAR\", \"Host\": \"algo-1\", \"Operation\": \"training\"}, \"Metrics\": {\"update.time\": {\"sum\": 4897.1662521362305, \"count\": 1, \"min\": 4897.1662521362305, \"max\": 4897.1662521362305}}}\u001b[0m\n",
      "\u001b[34m[06/21/2022 14:29:18 INFO 140457310791488] #throughput_metric: host=algo-1, train throughput=264.63556374155223 records/second\u001b[0m\n",
      "\u001b[34m[06/21/2022 14:29:18 INFO 140457310791488] #progress_metric: host=algo-1, completed 75.0 % of epochs\u001b[0m\n",
      "\u001b[34m[06/21/2022 14:29:18 INFO 140457310791488] #quality_metric: host=algo-1, epoch=14, train loss <loss>=1.5960762392390857\u001b[0m\n",
      "\u001b[34m[06/21/2022 14:29:19 INFO 140457310791488] Epoch[15] Batch[0] avg_epoch_loss=1.441967\u001b[0m\n",
      "\u001b[34m[06/21/2022 14:29:19 INFO 140457310791488] #quality_metric: host=algo-1, epoch=15, batch=0 train loss <loss>=1.4419667720794678\u001b[0m\n",
      "\u001b[34m[06/21/2022 14:29:21 INFO 140457310791488] Epoch[15] Batch[5] avg_epoch_loss=1.553080\u001b[0m\n",
      "\u001b[34m[06/21/2022 14:29:21 INFO 140457310791488] #quality_metric: host=algo-1, epoch=15, batch=5 train loss <loss>=1.5530803004900615\u001b[0m\n",
      "\u001b[34m[06/21/2022 14:29:21 INFO 140457310791488] Epoch[15] Batch [5]#011Speed: 370.66 samples/sec#011loss=1.553080\u001b[0m\n",
      "\u001b[34m[06/21/2022 14:29:22 INFO 140457310791488] processed a total of 1225 examples\u001b[0m\n",
      "\u001b[34m#metrics {\"StartTime\": 1655821758.1319935, \"EndTime\": 1655821762.6169956, \"Dimensions\": {\"Algorithm\": \"AWS/DeepAR\", \"Host\": \"algo-1\", \"Operation\": \"training\"}, \"Metrics\": {\"update.time\": {\"sum\": 4484.44128036499, \"count\": 1, \"min\": 4484.44128036499, \"max\": 4484.44128036499}}}\u001b[0m\n",
      "\u001b[34m[06/21/2022 14:29:22 INFO 140457310791488] #throughput_metric: host=algo-1, train throughput=273.1398726816504 records/second\u001b[0m\n",
      "\u001b[34m[06/21/2022 14:29:22 INFO 140457310791488] #progress_metric: host=algo-1, completed 80.0 % of epochs\u001b[0m\n",
      "\u001b[34m[06/21/2022 14:29:22 INFO 140457310791488] #quality_metric: host=algo-1, epoch=15, train loss <loss>=1.5289173364639281\u001b[0m\n",
      "\u001b[34m[06/21/2022 14:29:23 INFO 140457310791488] Epoch[16] Batch[0] avg_epoch_loss=1.545415\u001b[0m\n",
      "\u001b[34m[06/21/2022 14:29:23 INFO 140457310791488] #quality_metric: host=algo-1, epoch=16, batch=0 train loss <loss>=1.5454151630401611\u001b[0m\n",
      "\u001b[34m[06/21/2022 14:29:25 INFO 140457310791488] Epoch[16] Batch[5] avg_epoch_loss=1.549407\u001b[0m\n",
      "\u001b[34m[06/21/2022 14:29:25 INFO 140457310791488] #quality_metric: host=algo-1, epoch=16, batch=5 train loss <loss>=1.5494068662325542\u001b[0m\n",
      "\u001b[34m[06/21/2022 14:29:25 INFO 140457310791488] Epoch[16] Batch [5]#011Speed: 361.71 samples/sec#011loss=1.549407\u001b[0m\n",
      "\u001b[34m[06/21/2022 14:29:27 INFO 140457310791488] processed a total of 1263 examples\u001b[0m\n",
      "\u001b[34m#metrics {\"StartTime\": 1655821762.6173902, \"EndTime\": 1655821767.1140528, \"Dimensions\": {\"Algorithm\": \"AWS/DeepAR\", \"Host\": \"algo-1\", \"Operation\": \"training\"}, \"Metrics\": {\"update.time\": {\"sum\": 4495.502471923828, \"count\": 1, \"min\": 4495.502471923828, \"max\": 4495.502471923828}}}\u001b[0m\n",
      "\u001b[34m[06/21/2022 14:29:27 INFO 140457310791488] #throughput_metric: host=algo-1, train throughput=280.9391309309902 records/second\u001b[0m\n",
      "\u001b[34m[06/21/2022 14:29:27 INFO 140457310791488] #progress_metric: host=algo-1, completed 85.0 % of epochs\u001b[0m\n",
      "\u001b[34m[06/21/2022 14:29:27 INFO 140457310791488] #quality_metric: host=algo-1, epoch=16, train loss <loss>=1.5341807007789612\u001b[0m\n",
      "\u001b[34m[06/21/2022 14:29:28 INFO 140457310791488] Epoch[17] Batch[0] avg_epoch_loss=1.571612\u001b[0m\n",
      "\u001b[34m[06/21/2022 14:29:28 INFO 140457310791488] #quality_metric: host=algo-1, epoch=17, batch=0 train loss <loss>=1.5716121196746826\u001b[0m\n",
      "\u001b[34m[06/21/2022 14:29:30 INFO 140457310791488] Epoch[17] Batch[5] avg_epoch_loss=1.566050\u001b[0m\n",
      "\u001b[34m[06/21/2022 14:29:30 INFO 140457310791488] #quality_metric: host=algo-1, epoch=17, batch=5 train loss <loss>=1.5660496950149536\u001b[0m\n",
      "\u001b[34m[06/21/2022 14:29:30 INFO 140457310791488] Epoch[17] Batch [5]#011Speed: 360.38 samples/sec#011loss=1.566050\u001b[0m\n",
      "\u001b[34m[06/21/2022 14:29:32 INFO 140457310791488] Epoch[17] Batch[10] avg_epoch_loss=1.569687\u001b[0m\n",
      "\u001b[34m[06/21/2022 14:29:32 INFO 140457310791488] #quality_metric: host=algo-1, epoch=17, batch=10 train loss <loss>=1.5740527391433716\u001b[0m\n",
      "\u001b[34m[06/21/2022 14:29:32 INFO 140457310791488] Epoch[17] Batch [10]#011Speed: 340.12 samples/sec#011loss=1.574053\u001b[0m\n",
      "\u001b[34m[06/21/2022 14:29:32 INFO 140457310791488] processed a total of 1293 examples\u001b[0m\n",
      "\u001b[34m#metrics {\"StartTime\": 1655821767.1141474, \"EndTime\": 1655821772.0851078, \"Dimensions\": {\"Algorithm\": \"AWS/DeepAR\", \"Host\": \"algo-1\", \"Operation\": \"training\"}, \"Metrics\": {\"update.time\": {\"sum\": 4970.073223114014, \"count\": 1, \"min\": 4970.073223114014, \"max\": 4970.073223114014}}}\u001b[0m\n",
      "\u001b[34m[06/21/2022 14:29:32 INFO 140457310791488] #throughput_metric: host=algo-1, train throughput=260.13277430155006 records/second\u001b[0m\n",
      "\u001b[34m[06/21/2022 14:29:32 INFO 140457310791488] #progress_metric: host=algo-1, completed 90.0 % of epochs\u001b[0m\n",
      "\u001b[34m[06/21/2022 14:29:32 INFO 140457310791488] #quality_metric: host=algo-1, epoch=17, train loss <loss>=1.5696874423460527\u001b[0m\n",
      "\u001b[34m[06/21/2022 14:29:33 INFO 140457310791488] Epoch[18] Batch[0] avg_epoch_loss=1.593559\u001b[0m\n",
      "\u001b[34m[06/21/2022 14:29:33 INFO 140457310791488] #quality_metric: host=algo-1, epoch=18, batch=0 train loss <loss>=1.5935593843460083\u001b[0m\n",
      "\u001b[34m[06/21/2022 14:29:35 INFO 140457310791488] Epoch[18] Batch[5] avg_epoch_loss=1.577301\u001b[0m\n",
      "\u001b[34m[06/21/2022 14:29:35 INFO 140457310791488] #quality_metric: host=algo-1, epoch=18, batch=5 train loss <loss>=1.577300528685252\u001b[0m\n",
      "\u001b[34m[06/21/2022 14:29:35 INFO 140457310791488] Epoch[18] Batch [5]#011Speed: 357.10 samples/sec#011loss=1.577301\u001b[0m\n",
      "\u001b[34m[06/21/2022 14:29:37 INFO 140457310791488] Epoch[18] Batch[10] avg_epoch_loss=1.549375\u001b[0m\n",
      "\u001b[34m[06/21/2022 14:29:37 INFO 140457310791488] #quality_metric: host=algo-1, epoch=18, batch=10 train loss <loss>=1.5158641576766967\u001b[0m\n",
      "\u001b[34m[06/21/2022 14:29:37 INFO 140457310791488] Epoch[18] Batch [10]#011Speed: 346.58 samples/sec#011loss=1.515864\u001b[0m\n",
      "\u001b[34m[06/21/2022 14:29:37 INFO 140457310791488] processed a total of 1297 examples\u001b[0m\n",
      "\u001b[34m#metrics {\"StartTime\": 1655821772.085516, \"EndTime\": 1655821777.0904217, \"Dimensions\": {\"Algorithm\": \"AWS/DeepAR\", \"Host\": \"algo-1\", \"Operation\": \"training\"}, \"Metrics\": {\"update.time\": {\"sum\": 5003.763675689697, \"count\": 1, \"min\": 5003.763675689697, \"max\": 5003.763675689697}}}\u001b[0m\n",
      "\u001b[34m[06/21/2022 14:29:37 INFO 140457310791488] #throughput_metric: host=algo-1, train throughput=259.19786009779455 records/second\u001b[0m\n",
      "\u001b[34m[06/21/2022 14:29:37 INFO 140457310791488] #progress_metric: host=algo-1, completed 95.0 % of epochs\u001b[0m\n",
      "\u001b[34m[06/21/2022 14:29:37 INFO 140457310791488] #quality_metric: host=algo-1, epoch=18, train loss <loss>=1.549374905499545\u001b[0m\n",
      "\u001b[34m[06/21/2022 14:29:38 INFO 140457310791488] Epoch[19] Batch[0] avg_epoch_loss=1.570634\u001b[0m\n",
      "\u001b[34m[06/21/2022 14:29:38 INFO 140457310791488] #quality_metric: host=algo-1, epoch=19, batch=0 train loss <loss>=1.5706342458724976\u001b[0m\n",
      "\u001b[34m[06/21/2022 14:29:40 INFO 140457310791488] Epoch[19] Batch[5] avg_epoch_loss=1.518085\u001b[0m\n",
      "\u001b[34m[06/21/2022 14:29:40 INFO 140457310791488] #quality_metric: host=algo-1, epoch=19, batch=5 train loss <loss>=1.5180848042170207\u001b[0m\n",
      "\u001b[34m[06/21/2022 14:29:40 INFO 140457310791488] Epoch[19] Batch [5]#011Speed: 368.37 samples/sec#011loss=1.518085\u001b[0m\n",
      "\u001b[34m[06/21/2022 14:29:42 INFO 140457310791488] Epoch[19] Batch[10] avg_epoch_loss=1.566730\u001b[0m\n",
      "\u001b[34m[06/21/2022 14:29:42 INFO 140457310791488] #quality_metric: host=algo-1, epoch=19, batch=10 train loss <loss>=1.6251039028167724\u001b[0m\n",
      "\u001b[34m[06/21/2022 14:29:42 INFO 140457310791488] Epoch[19] Batch [10]#011Speed: 337.36 samples/sec#011loss=1.625104\u001b[0m\n",
      "\u001b[34m[06/21/2022 14:29:42 INFO 140457310791488] processed a total of 1313 examples\u001b[0m\n",
      "\u001b[34m#metrics {\"StartTime\": 1655821777.090518, \"EndTime\": 1655821782.039766, \"Dimensions\": {\"Algorithm\": \"AWS/DeepAR\", \"Host\": \"algo-1\", \"Operation\": \"training\"}, \"Metrics\": {\"update.time\": {\"sum\": 4948.738574981689, \"count\": 1, \"min\": 4948.738574981689, \"max\": 4948.738574981689}}}\u001b[0m\n",
      "\u001b[34m[06/21/2022 14:29:42 INFO 140457310791488] #throughput_metric: host=algo-1, train throughput=265.31227666408006 records/second\u001b[0m\n",
      "\u001b[34m[06/21/2022 14:29:42 INFO 140457310791488] #progress_metric: host=algo-1, completed 100.0 % of epochs\u001b[0m\n",
      "\u001b[34m[06/21/2022 14:29:42 INFO 140457310791488] #quality_metric: host=algo-1, epoch=19, train loss <loss>=1.5667298490350896\u001b[0m\n",
      "\u001b[34m[06/21/2022 14:29:42 INFO 140457310791488] Final loss: 1.5667298490350896 (occurred at epoch 19)\u001b[0m\n",
      "\u001b[34m[06/21/2022 14:29:42 INFO 140457310791488] #quality_metric: host=algo-1, train final_loss <loss>=1.5667298490350896\u001b[0m\n",
      "\u001b[34m[06/21/2022 14:29:42 INFO 140457310791488] Worker algo-1 finished training.\u001b[0m\n",
      "\u001b[34m[06/21/2022 14:29:42 WARNING 140457310791488] wait_for_all_workers will not sync workers since the kv store is not running distributed\u001b[0m\n",
      "\u001b[34m[06/21/2022 14:29:42 INFO 140457310791488] All workers finished. Serializing model for prediction.\u001b[0m\n",
      "\u001b[34m#metrics {\"StartTime\": 1655821782.0398724, \"EndTime\": 1655821782.524391, \"Dimensions\": {\"Algorithm\": \"AWS/DeepAR\", \"Host\": \"algo-1\", \"Operation\": \"training\"}, \"Metrics\": {\"get_graph.time\": {\"sum\": 483.3099842071533, \"count\": 1, \"min\": 483.3099842071533, \"max\": 483.3099842071533}}}\u001b[0m\n",
      "\u001b[34m[06/21/2022 14:29:42 INFO 140457310791488] Number of GPUs being used: 0\u001b[0m\n",
      "\u001b[34m#metrics {\"StartTime\": 1655821782.5244877, \"EndTime\": 1655821782.702386, \"Dimensions\": {\"Algorithm\": \"AWS/DeepAR\", \"Host\": \"algo-1\", \"Operation\": \"training\"}, \"Metrics\": {\"finalize.time\": {\"sum\": 661.384105682373, \"count\": 1, \"min\": 661.384105682373, \"max\": 661.384105682373}}}\u001b[0m\n",
      "\u001b[34m[06/21/2022 14:29:42 INFO 140457310791488] Serializing to /opt/ml/model/model_algo-1\u001b[0m\n",
      "\u001b[34m[06/21/2022 14:29:42 INFO 140457310791488] Saved checkpoint to \"/opt/ml/model/model_algo-1-0000.params\"\u001b[0m\n",
      "\u001b[34m#metrics {\"StartTime\": 1655821782.7024941, \"EndTime\": 1655821782.7269475, \"Dimensions\": {\"Algorithm\": \"AWS/DeepAR\", \"Host\": \"algo-1\", \"Operation\": \"training\"}, \"Metrics\": {\"model.serialize.time\": {\"sum\": 24.399280548095703, \"count\": 1, \"min\": 24.399280548095703, \"max\": 24.399280548095703}}}\u001b[0m\n",
      "\u001b[34m[06/21/2022 14:29:42 INFO 140457310791488] Successfully serialized the model for prediction.\u001b[0m\n",
      "\u001b[34m[06/21/2022 14:29:42 INFO 140457310791488] #memory_usage::<batchbuffer> = 89.794921875 mb\u001b[0m\n",
      "\u001b[34m[06/21/2022 14:29:42 INFO 140457310791488] Evaluating model accuracy on testset using 100 samples\u001b[0m\n",
      "\u001b[34m#metrics {\"StartTime\": 1655821782.7270257, \"EndTime\": 1655821782.7365932, \"Dimensions\": {\"Algorithm\": \"AWS/DeepAR\", \"Host\": \"algo-1\", \"Operation\": \"training\"}, \"Metrics\": {\"model.bind.time\": {\"sum\": 0.04172325134277344, \"count\": 1, \"min\": 0.04172325134277344, \"max\": 0.04172325134277344}}}\u001b[0m\n",
      "\u001b[34m#metrics {\"StartTime\": 1655821782.7366788, \"EndTime\": 1655821790.2421136, \"Dimensions\": {\"Algorithm\": \"AWS/DeepAR\", \"Host\": \"algo-1\", \"Operation\": \"training\"}, \"Metrics\": {\"model.score.time\": {\"sum\": 7505.569219589233, \"count\": 1, \"min\": 7505.569219589233, \"max\": 7505.569219589233}}}\u001b[0m\n",
      "\u001b[34m[06/21/2022 14:29:50 INFO 140457310791488] #test_score (algo-1, RMSE): 2.201804628903454\u001b[0m\n",
      "\u001b[34m[06/21/2022 14:29:50 INFO 140457310791488] #test_score (algo-1, mean_absolute_QuantileLoss): 42.2768052842882\u001b[0m\n",
      "\u001b[34m[06/21/2022 14:29:50 INFO 140457310791488] #test_score (algo-1, mean_wQuantileLoss): 0.04476056881046603\u001b[0m\n",
      "\u001b[34m[06/21/2022 14:29:50 INFO 140457310791488] #test_score (algo-1, wQuantileLoss[0.1]): 0.019732088148565172\u001b[0m\n",
      "\u001b[34m[06/21/2022 14:29:50 INFO 140457310791488] #test_score (algo-1, wQuantileLoss[0.2]): 0.030967523954348646\u001b[0m\n",
      "\u001b[34m[06/21/2022 14:29:50 INFO 140457310791488] #test_score (algo-1, wQuantileLoss[0.3]): 0.04181739710660885\u001b[0m\n",
      "\u001b[34m[06/21/2022 14:29:50 INFO 140457310791488] #test_score (algo-1, wQuantileLoss[0.4]): 0.04941883935303549\u001b[0m\n",
      "\u001b[34m[06/21/2022 14:29:50 INFO 140457310791488] #test_score (algo-1, wQuantileLoss[0.5]): 0.05572686373672588\u001b[0m\n",
      "\u001b[34m[06/21/2022 14:29:50 INFO 140457310791488] #test_score (algo-1, wQuantileLoss[0.6]): 0.05894475598215737\u001b[0m\n",
      "\u001b[34m[06/21/2022 14:29:50 INFO 140457310791488] #test_score (algo-1, wQuantileLoss[0.7]): 0.05795518512874954\u001b[0m\n",
      "\u001b[34m[06/21/2022 14:29:50 INFO 140457310791488] #test_score (algo-1, wQuantileLoss[0.8]): 0.051172171953566985\u001b[0m\n",
      "\u001b[34m[06/21/2022 14:29:50 INFO 140457310791488] #test_score (algo-1, wQuantileLoss[0.9]): 0.0371102939304363\u001b[0m\n",
      "\u001b[34m[06/21/2022 14:29:50 INFO 140457310791488] #quality_metric: host=algo-1, test RMSE <loss>=2.201804628903454\u001b[0m\n",
      "\u001b[34m[06/21/2022 14:29:50 INFO 140457310791488] #quality_metric: host=algo-1, test mean_wQuantileLoss <loss>=0.04476056881046603\u001b[0m\n",
      "\u001b[34m#metrics {\"StartTime\": 1655821790.242199, \"EndTime\": 1655821790.2926893, \"Dimensions\": {\"Algorithm\": \"AWS/DeepAR\", \"Host\": \"algo-1\", \"Operation\": \"training\"}, \"Metrics\": {\"setuptime\": {\"sum\": 7.940769195556641, \"count\": 1, \"min\": 7.940769195556641, \"max\": 7.940769195556641}, \"totaltime\": {\"sum\": 106881.30950927734, \"count\": 1, \"min\": 106881.30950927734, \"max\": 106881.30950927734}}}\u001b[0m\n",
      "\n",
      "2022-06-21 14:30:08 Uploading - Uploading generated training model\n",
      "2022-06-21 14:30:08 Completed - Training job completed\n",
      "Training seconds: 228\n",
      "Billable seconds: 64\n",
      "Managed Spot Training savings: 71.9%\n"
     ]
    }
   ],
   "source": [
    "# Training the model\n",
    "\n",
    "deepar.fit(inputs = data_channels)"
   ]
  },
  {
   "cell_type": "markdown",
   "metadata": {},
   "source": [
    "# Deployment and predictions"
   ]
  },
  {
   "cell_type": "code",
   "execution_count": 52,
   "metadata": {},
   "outputs": [
    {
     "name": "stdout",
     "output_type": "stream",
     "text": [
      "Job name:  deepar-petr-2022-06-21-14-23-44-949\n"
     ]
    }
   ],
   "source": [
    "job_name = deepar.latest_training_job.name\n",
    "print('Job name: ', job_name)"
   ]
  },
  {
   "cell_type": "code",
   "execution_count": null,
   "metadata": {},
   "outputs": [],
   "source": [
    "endpoint = session.endpoint_from_job(job_name = job_name,\n",
    "                                     initial_instance_count = 1,\n",
    "                                     instance_type = \"ml.m5.large\",\n",
    "                                     image_uri = container,\n",
    "                                     role = role)"
   ]
  },
  {
   "cell_type": "code",
   "execution_count": 54,
   "metadata": {},
   "outputs": [
    {
     "name": "stdout",
     "output_type": "stream",
     "text": [
      "Endpoint:  deepar-petr-2022-06-21-14-23-44-949\n"
     ]
    }
   ],
   "source": [
    "print('Endpoint: ', endpoint)"
   ]
  },
  {
   "cell_type": "code",
   "execution_count": 55,
   "metadata": {},
   "outputs": [],
   "source": [
    "# DeepARPredictor, the details can be found at: https://docs.aws.amazon.com/sagemaker/latest/dg/deepar.html\n",
    "\n",
    "\n",
    "class DeepARPredictor(sagemaker.predictor.Predictor):\n",
    "\n",
    "    def set_prediction_parameters(self, freq, prediction_length):\n",
    "        \"\"\"Set the time frequency and prediction length parameters. \n",
    "          This method **must** be called before being able to use `predict`.\n",
    "        \n",
    "        Parameters:\n",
    "        freq -- string indicating the time frequency\n",
    "        prediction_length -- integer, number of predicted time points\n",
    "        \n",
    "        Return value: none.\n",
    "        \"\"\"\n",
    "        self.freq = freq\n",
    "        self.prediction_length = prediction_length\n",
    "        \n",
    "    def predict(self, ts, cat=None, dynamic_feat=None, \n",
    "                encoding=\"utf-8\", num_samples=100, quantiles=[\"0.1\", \"0.5\", \"0.9\"]):\n",
    "        \"\"\"Requests the prediction of for the time series listed in `ts`, \n",
    "           each with the (optional) corresponding category listed in `cat`.\n",
    "        \n",
    "        Parameters:\n",
    "        ts -- list of `pandas.Series` objects, the time series to predict\n",
    "        cat -- list of integers (default: None)\n",
    "        encoding -- string, encoding to use for the request (default: \"utf-8\")\n",
    "        num_samples -- integer, number of samples to compute at prediction time (default: 100)\n",
    "        quantiles -- list of strings specifying the quantiles to compute (default: [\"0.1\", \"0.5\", \"0.9\"])\n",
    "        \n",
    "        Return value: list of `pandas.DataFrame` objects, each containing the predictions\n",
    "        \"\"\"\n",
    "        prediction_times = [x.index[-1] + datetime.timedelta(hours=1) for x in ts] \n",
    "        \n",
    "        req = self.__encode_request(ts, cat, dynamic_feat, encoding, num_samples, quantiles)\n",
    "        res = super(DeepARPredictor, self).predict(req)\n",
    "        return self.__decode_response(res, prediction_times, encoding)\n",
    "    \n",
    "    def __encode_request(self, ts, cat, dynamic_feat, encoding, num_samples, quantiles):\n",
    "        \n",
    "        instances = [series_to_obj(ts[k]) for k in range(len(ts))]\n",
    "        \n",
    "        configuration = {\"num_samples\": num_samples, \"output_types\": [\"quantiles\"], \"quantiles\": quantiles}\n",
    "        http_request_data = {\"instances\": instances, \"configuration\": configuration}\n",
    "        return json.dumps(http_request_data).encode(encoding)\n",
    "    \n",
    "    def __decode_response(self, response, prediction_times, encoding):\n",
    "        response_data = json.loads(response.decode(encoding))\n",
    "        list_of_df = []\n",
    "        for k in range(len(prediction_times)):\n",
    "            prediction_index = pd.date_range(start=prediction_times[k], freq=self.freq, periods=self.prediction_length)\n",
    "            list_of_df.append(pd.DataFrame(data=response_data['predictions'][k]['quantiles'], index=prediction_index))\n",
    "        return list_of_df"
   ]
  },
  {
   "cell_type": "code",
   "execution_count": 56,
   "metadata": {},
   "outputs": [],
   "source": [
    "predictor = DeepARPredictor(endpoint_name = 'deepar-petr-2022-06-21-14-23-44-949',\n",
    "                            sagemaker_session = session)\n",
    "predictor.set_prediction_parameters(freq, prediction_length)\n",
    "predictor.serializer.content_type = \"application/json\""
   ]
  },
  {
   "cell_type": "code",
   "execution_count": 57,
   "metadata": {},
   "outputs": [],
   "source": [
    "import datetime\n",
    "previsoes = predictor.predict(serie_temporal_treinamento)"
   ]
  },
  {
   "cell_type": "code",
   "execution_count": 58,
   "metadata": {},
   "outputs": [
    {
     "data": {
      "text/plain": [
       "[                           0.1        0.5        0.9\n",
       " 2022-05-06 01:00:00  28.875187  30.817455  32.418457\n",
       " 2022-05-07 01:00:00  29.162640  31.139212  32.377380\n",
       " 2022-05-08 01:00:00  29.408482  31.241457  33.011822\n",
       " 2022-05-09 01:00:00  29.452053  31.423615  33.137833\n",
       " 2022-05-10 01:00:00  29.279715  31.057995  32.598751\n",
       " 2022-05-11 01:00:00  29.202368  31.057312  33.107185\n",
       " 2022-05-12 01:00:00  29.533247  30.901207  33.209702\n",
       " 2022-05-13 01:00:00  29.049820  31.104757  33.005554\n",
       " 2022-05-14 01:00:00  28.702120  30.799152  33.194901\n",
       " 2022-05-15 01:00:00  29.026234  31.079996  32.573654\n",
       " 2022-05-16 01:00:00  28.621025  30.781357  32.590691\n",
       " 2022-05-17 01:00:00  28.682053  30.596411  32.899509\n",
       " 2022-05-18 01:00:00  29.308445  31.442808  33.293678\n",
       " 2022-05-19 01:00:00  28.828308  31.269821  33.116402\n",
       " 2022-05-20 01:00:00  29.095337  31.361378  33.456291\n",
       " 2022-05-21 01:00:00  28.908606  30.898802  32.990246\n",
       " 2022-05-22 01:00:00  28.419056  30.868151  33.554344\n",
       " 2022-05-23 01:00:00  28.786541  30.845545  33.272411\n",
       " 2022-05-24 01:00:00  28.802851  30.870794  32.942894\n",
       " 2022-05-25 01:00:00  28.838276  30.664434  33.293938\n",
       " 2022-05-26 01:00:00  28.435795  30.681881  32.979561\n",
       " 2022-05-27 01:00:00  28.770508  31.142082  32.628529\n",
       " 2022-05-28 01:00:00  29.105917  30.920326  32.684902\n",
       " 2022-05-29 01:00:00  28.434034  30.580221  32.755054\n",
       " 2022-05-30 01:00:00  28.859968  31.192007  33.088127\n",
       " 2022-05-31 01:00:00  28.393921  30.571367  32.400124\n",
       " 2022-06-01 01:00:00  28.724432  30.505304  32.855721\n",
       " 2022-06-02 01:00:00  28.614525  30.456821  33.030266\n",
       " 2022-06-03 01:00:00  28.225399  30.679630  33.416725\n",
       " 2022-06-04 01:00:00  28.608160  30.723783  33.140812]"
      ]
     },
     "execution_count": 58,
     "metadata": {},
     "output_type": "execute_result"
    }
   ],
   "source": [
    "previsoes"
   ]
  },
  {
   "cell_type": "code",
   "execution_count": 59,
   "metadata": {},
   "outputs": [
    {
     "data": {
      "image/png": "[encoded data removed]",
      "text/plain": [
       "<Figure size 864x432 with 1 Axes>"
      ]
     },
     "metadata": {
      "needs_background": "light"
     },
     "output_type": "display_data"
    }
   ],
   "source": [
    "# Ploting the predictions\n",
    "\n",
    "for k in range(len(previsoes)):\n",
    "    plt.figure(figsize=(12,6))\n",
    "    previsoes[k]['0.5'].plot(label = 'Mediana', color = 'red')\n",
    "    #serie_temporal_teste[k].plot(label = 'Alvo')\n",
    "    serie_temporal_teste[k][-prediction_length - context_length:].plot(label = 'Alvo')\n",
    "    p10 = previsoes[k]['0.1']\n",
    "    p90 = previsoes[k]['0.9']\n",
    "    plt.fill_between(p10.index, p10, p90, color = 'y', alpha = 0.5, label = 'Intervalo de confiança')\n",
    "    plt.legend()\n",
    "    plt.show()"
   ]
  },
  {
   "cell_type": "code",
   "execution_count": 60,
   "metadata": {},
   "outputs": [
    {
     "data": {
      "text/plain": [
       "array([30.81745529, 31.13921165, 31.24145699, 31.4236145 , 31.05799484,\n",
       "       31.05731201, 30.90120697, 31.10475731, 30.79915237, 31.07999611,\n",
       "       30.78135681, 30.59641075, 31.44280815, 31.26982117, 31.36137772,\n",
       "       30.8988018 , 30.86815071, 30.84554482, 30.8707943 , 30.66443443,\n",
       "       30.68188095, 31.14208221, 30.92032623, 30.58022118, 31.19200706,\n",
       "       30.57136726, 30.50530434, 30.45682144, 30.67963028, 30.72378349])"
      ]
     },
     "execution_count": 60,
     "metadata": {},
     "output_type": "execute_result"
    }
   ],
   "source": [
    "# With the predictions and the targets wer can calculate the associated error.\n",
    "\n",
    "previsoes2 = previsoes[0]['0.5'].values\n",
    "previsoes2"
   ]
  },
  {
   "cell_type": "code",
   "execution_count": 65,
   "metadata": {},
   "outputs": [
    {
     "data": {
      "text/plain": [
       "30"
      ]
     },
     "execution_count": 65,
     "metadata": {},
     "output_type": "execute_result"
    }
   ],
   "source": [
    "df_teste = base.iloc[1227:,:]\n",
    "len(df_teste)"
   ]
  },
  {
   "cell_type": "code",
   "execution_count": 66,
   "metadata": {},
   "outputs": [
    {
     "data": {
      "text/plain": [
       "30"
      ]
     },
     "execution_count": 66,
     "metadata": {},
     "output_type": "execute_result"
    }
   ],
   "source": [
    "esperado = df_teste['Último'].values\n",
    "len(esperado)"
   ]
  },
  {
   "cell_type": "code",
   "execution_count": 67,
   "metadata": {},
   "outputs": [
    {
     "name": "stdout",
     "output_type": "stream",
     "text": [
      "MAE:  1.7659991099066663 \n",
      "MSE:  4.780899030271785\n"
     ]
    }
   ],
   "source": [
    "from sklearn.metrics import mean_absolute_error, mean_squared_error\n",
    "mae = mean_absolute_error(esperado, previsoes2)\n",
    "mse = mean_squared_error(esperado, previsoes2)\n",
    "print('MAE: ', mae, '\\nMSE: ', mse)"
   ]
  },
  {
   "cell_type": "code",
   "execution_count": 72,
   "metadata": {},
   "outputs": [],
   "source": [
    "from sagemaker import get_execution_role\n",
    "session.delete_endpoint(endpoint)\n"
   ]
  }
 ],
 "metadata": {
  "instance_type": "ml.t3.medium",
  "kernelspec": {
   "display_name": "Python 3 (Data Science)",
   "language": "python",
   "name": "python3__SAGEMAKER_INTERNAL__arn:aws:sagemaker:sa-east-1:782484402741:image/datascience-1.0"
  },
  "language_info": {
   "codemirror_mode": {
    "name": "ipython",
    "version": 3
   },
   "file_extension": ".py",
   "mimetype": "text/x-python",
   "name": "python",
   "nbconvert_exporter": "python",
   "pygments_lexer": "ipython3",
   "version": "3.7.10"
  }
 },
 "nbformat": 4,
 "nbformat_minor": 4
}
